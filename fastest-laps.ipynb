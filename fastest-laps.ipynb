{
 "cells": [
  {
   "cell_type": "markdown",
   "metadata": {},
   "source": [
    "# Fastest Lap Data\n",
    "A Jupyter notebook looking at the fastest laps from each race. Using data from [Formula 1](https://www.formula1.com/en/results.html/2022/races.html)\n",
    "\n",
    "The DataFrame 'fastest_lap' contains the mean (average) of the fastest laps of each driver in each race.\n",
    "\n",
    "CSV files can be found in:\n",
    "- data/fastest-laps\n",
    "\n",
    "__HAVE YOU READ THE README FILE? PLEASE DO BEFORE USING THIS JUPYTER NOTEBOOK!__"
   ]
  },
  {
   "cell_type": "code",
   "execution_count": 1,
   "metadata": {},
   "outputs": [],
   "source": [
    "import pandas as pd\n",
    "import numpy as np\n",
    "import seaborn as sns\n",
    "import matplotlib.pyplot as plt\n",
    "import cufflinks as cf\n",
    "import re\n",
    "from datetime import datetime\n",
    "import time"
   ]
  },
  {
   "cell_type": "code",
   "execution_count": 2,
   "metadata": {},
   "outputs": [],
   "source": [
    "%matplotlib inline"
   ]
  },
  {
   "cell_type": "code",
   "execution_count": 3,
   "metadata": {},
   "outputs": [
    {
     "data": {
      "text/html": [
       "        <script type=\"text/javascript\">\n",
       "        window.PlotlyConfig = {MathJaxConfig: 'local'};\n",
       "        if (window.MathJax && window.MathJax.Hub && window.MathJax.Hub.Config) {window.MathJax.Hub.Config({SVG: {font: \"STIX-Web\"}});}\n",
       "        if (typeof require !== 'undefined') {\n",
       "        require.undef(\"plotly\");\n",
       "        requirejs.config({\n",
       "            paths: {\n",
       "                'plotly': ['https://cdn.plot.ly/plotly-2.14.0.min']\n",
       "            }\n",
       "        });\n",
       "        require(['plotly'], function(Plotly) {\n",
       "            window._Plotly = Plotly;\n",
       "        });\n",
       "        }\n",
       "        </script>\n",
       "        "
      ]
     },
     "metadata": {},
     "output_type": "display_data"
    }
   ],
   "source": [
    "cf.go_offline() #allows to use cufflinks offline"
   ]
  },
  {
   "cell_type": "markdown",
   "metadata": {},
   "source": [
    "# Fastest Lap DataFrame management"
   ]
  },
  {
   "cell_type": "code",
   "execution_count": 221,
   "metadata": {},
   "outputs": [
    {
     "data": {
      "text/html": [
       "<div>\n",
       "<style scoped>\n",
       "    .dataframe tbody tr th:only-of-type {\n",
       "        vertical-align: middle;\n",
       "    }\n",
       "\n",
       "    .dataframe tbody tr th {\n",
       "        vertical-align: top;\n",
       "    }\n",
       "\n",
       "    .dataframe thead th {\n",
       "        text-align: right;\n",
       "    }\n",
       "</style>\n",
       "<table border=\"1\" class=\"dataframe\">\n",
       "  <thead>\n",
       "    <tr style=\"text-align: right;\">\n",
       "      <th></th>\n",
       "      <th>NO</th>\n",
       "      <th>DRIVER</th>\n",
       "      <th>CAR</th>\n",
       "      <th>RACE</th>\n",
       "      <th>FL</th>\n",
       "      <th>AVG_SPEED</th>\n",
       "    </tr>\n",
       "  </thead>\n",
       "  <tbody>\n",
       "  </tbody>\n",
       "</table>\n",
       "</div>"
      ],
      "text/plain": [
       "Empty DataFrame\n",
       "Columns: [NO, DRIVER, CAR, RACE, FL, AVG_SPEED]\n",
       "Index: []"
      ]
     },
     "execution_count": 221,
     "metadata": {},
     "output_type": "execute_result"
    }
   ],
   "source": [
    "fastest_lap = pd.DataFrame()\n",
    "\n",
    "fastest_lap = fastest_lap.assign(NO = '', DRIVER = '', CAR = '', RACE = '', FL = '', AVG_SPEED = '')\n",
    "# rename the column header\n",
    "#fastest_lap.columns = fastest_lap.columns.str.replace('SPEED', 'AVG SPEED')\n",
    "\n",
    "fastest_lap.head()"
   ]
  },
  {
   "cell_type": "code",
   "execution_count": 167,
   "metadata": {},
   "outputs": [],
   "source": [
    "# convert column to timedelta\n",
    "fastest_lap['FL'] = pd.to_timedelta(fastest_lap['FL'])"
   ]
  },
  {
   "cell_type": "code",
   "execution_count": 220,
   "metadata": {},
   "outputs": [
    {
     "ename": "AttributeError",
     "evalue": "Can only use .dt accessor with datetimelike values",
     "output_type": "error",
     "traceback": [
      "\u001b[0;31m---------------------------------------------------------------------------\u001b[0m",
      "\u001b[0;31mAttributeError\u001b[0m                            Traceback (most recent call last)",
      "Cell \u001b[0;32mIn [220], line 2\u001b[0m\n\u001b[1;32m      1\u001b[0m \u001b[39m# get total seconds\u001b[39;00m\n\u001b[0;32m----> 2\u001b[0m fastest_lap[\u001b[39m'\u001b[39m\u001b[39mFL\u001b[39m\u001b[39m'\u001b[39m] \u001b[39m=\u001b[39m fastest_lap[\u001b[39m'\u001b[39;49m\u001b[39mFL\u001b[39;49m\u001b[39m'\u001b[39;49m]\u001b[39m.\u001b[39;49mdt\u001b[39m.\u001b[39mtotal_seconds()\n",
      "File \u001b[0;32m~/Dev/f1-2022-analysis/.venv/lib/python3.10/site-packages/pandas/core/generic.py:5907\u001b[0m, in \u001b[0;36mNDFrame.__getattr__\u001b[0;34m(self, name)\u001b[0m\n\u001b[1;32m   5900\u001b[0m \u001b[39mif\u001b[39;00m (\n\u001b[1;32m   5901\u001b[0m     name \u001b[39mnot\u001b[39;00m \u001b[39min\u001b[39;00m \u001b[39mself\u001b[39m\u001b[39m.\u001b[39m_internal_names_set\n\u001b[1;32m   5902\u001b[0m     \u001b[39mand\u001b[39;00m name \u001b[39mnot\u001b[39;00m \u001b[39min\u001b[39;00m \u001b[39mself\u001b[39m\u001b[39m.\u001b[39m_metadata\n\u001b[1;32m   5903\u001b[0m     \u001b[39mand\u001b[39;00m name \u001b[39mnot\u001b[39;00m \u001b[39min\u001b[39;00m \u001b[39mself\u001b[39m\u001b[39m.\u001b[39m_accessors\n\u001b[1;32m   5904\u001b[0m     \u001b[39mand\u001b[39;00m \u001b[39mself\u001b[39m\u001b[39m.\u001b[39m_info_axis\u001b[39m.\u001b[39m_can_hold_identifiers_and_holds_name(name)\n\u001b[1;32m   5905\u001b[0m ):\n\u001b[1;32m   5906\u001b[0m     \u001b[39mreturn\u001b[39;00m \u001b[39mself\u001b[39m[name]\n\u001b[0;32m-> 5907\u001b[0m \u001b[39mreturn\u001b[39;00m \u001b[39mobject\u001b[39;49m\u001b[39m.\u001b[39;49m\u001b[39m__getattribute__\u001b[39;49m(\u001b[39mself\u001b[39;49m, name)\n",
      "File \u001b[0;32m~/Dev/f1-2022-analysis/.venv/lib/python3.10/site-packages/pandas/core/accessor.py:183\u001b[0m, in \u001b[0;36mCachedAccessor.__get__\u001b[0;34m(self, obj, cls)\u001b[0m\n\u001b[1;32m    180\u001b[0m \u001b[39mif\u001b[39;00m obj \u001b[39mis\u001b[39;00m \u001b[39mNone\u001b[39;00m:\n\u001b[1;32m    181\u001b[0m     \u001b[39m# we're accessing the attribute of the class, i.e., Dataset.geo\u001b[39;00m\n\u001b[1;32m    182\u001b[0m     \u001b[39mreturn\u001b[39;00m \u001b[39mself\u001b[39m\u001b[39m.\u001b[39m_accessor\n\u001b[0;32m--> 183\u001b[0m accessor_obj \u001b[39m=\u001b[39m \u001b[39mself\u001b[39;49m\u001b[39m.\u001b[39;49m_accessor(obj)\n\u001b[1;32m    184\u001b[0m \u001b[39m# Replace the property with the accessor object. Inspired by:\u001b[39;00m\n\u001b[1;32m    185\u001b[0m \u001b[39m# https://www.pydanny.com/cached-property.html\u001b[39;00m\n\u001b[1;32m    186\u001b[0m \u001b[39m# We need to use object.__setattr__ because we overwrite __setattr__ on\u001b[39;00m\n\u001b[1;32m    187\u001b[0m \u001b[39m# NDFrame\u001b[39;00m\n\u001b[1;32m    188\u001b[0m \u001b[39mobject\u001b[39m\u001b[39m.\u001b[39m\u001b[39m__setattr__\u001b[39m(obj, \u001b[39mself\u001b[39m\u001b[39m.\u001b[39m_name, accessor_obj)\n",
      "File \u001b[0;32m~/Dev/f1-2022-analysis/.venv/lib/python3.10/site-packages/pandas/core/indexes/accessors.py:513\u001b[0m, in \u001b[0;36mCombinedDatetimelikeProperties.__new__\u001b[0;34m(cls, data)\u001b[0m\n\u001b[1;32m    510\u001b[0m \u001b[39melif\u001b[39;00m is_period_dtype(data\u001b[39m.\u001b[39mdtype):\n\u001b[1;32m    511\u001b[0m     \u001b[39mreturn\u001b[39;00m PeriodProperties(data, orig)\n\u001b[0;32m--> 513\u001b[0m \u001b[39mraise\u001b[39;00m \u001b[39mAttributeError\u001b[39;00m(\u001b[39m\"\u001b[39m\u001b[39mCan only use .dt accessor with datetimelike values\u001b[39m\u001b[39m\"\u001b[39m)\n",
      "\u001b[0;31mAttributeError\u001b[0m: Can only use .dt accessor with datetimelike values"
     ]
    }
   ],
   "source": [
    "# get total seconds\n",
    "fastest_lap['FL'] = fastest_lap['FL'].dt.total_seconds()"
   ]
  },
  {
   "cell_type": "code",
   "execution_count": 275,
   "metadata": {},
   "outputs": [],
   "source": [
    "fastest_lap.to_csv('data/compiled-data/fastest-laps.csv')"
   ]
  },
  {
   "cell_type": "markdown",
   "metadata": {},
   "source": [
    "# Adding Fastest Laps data\n",
    "This function will add the fastest lap data for a race to a data frame."
   ]
  },
  {
   "cell_type": "code",
   "execution_count": 106,
   "metadata": {},
   "outputs": [],
   "source": [
    "def addFastestLaps(fl_country, country_name, fastest_lap, commit_mode):\n",
    "    driver_count = 0\n",
    "\n",
    "    print(\"Adding data for \" + country_name)\n",
    "    try:\n",
    "        if(commit_mode==True):\n",
    "            print(\"Commit mode is set to TRUE - data WILL be added to the fastest lap data frame!\")\n",
    "            while driver_count < len(fl_country.index):\n",
    "                time = fl_country.loc[driver_count, 'Time']\n",
    "                driverNo = fl_country.loc[driver_count, 'No']\n",
    "                name = fl_country.loc[driver_count, 'Driver']\n",
    "                avg_speed = fl_country.loc[driver_count, 'Avg Speed']\n",
    "                car = fl_country.loc[driver_count, 'Car']\n",
    "                if time == 'DNF':\n",
    "                    driver_count += 1\n",
    "                else:\n",
    "                    #time = re.sub(r'[^0-9.]', '', time)\n",
    "                    #timeFloat = float(time)\n",
    "                    formattedTime = datetime.strptime(time,'%M:%S.%f')\n",
    "                    formattedTime = formattedTime.strftime('%H:%M:%S.%f')[:-5]\n",
    "                    #finalTime = timeFloat + fastest_lap_bahrain_time.strftime('%M:%S.%f')[:-3]\n",
    "                    # add row\n",
    "                    fastest_lap.loc[-1] = [driverNo, name, car, country_name, formattedTime, avg_speed]\n",
    "                    # shift the index\n",
    "                    fastest_lap.index = fastest_lap.index + 1\n",
    "                    driver_count += 1\n",
    "\n",
    "            # CONVERT FL COLUMN TO TIMEDELTA FORMAT\n",
    "            fastest_lap['FL'] = pd.to_timedelta(fastest_lap['FL'])\n",
    "            print(\"Data for \" + country_name + \" has been added!\")\n",
    "\n",
    "        elif(commit_mode==False):\n",
    "            print(\"Commit mode is set to FALSE - data will NOT be added to the fastest lap data frame!\")\n",
    "            while driver_count < len(fl_country.index):\n",
    "                time = fl_country.loc[driver_count, 'Time']\n",
    "                driverNo = fl_country.loc[driver_count, 'No']\n",
    "                name = fl_country.loc[driver_count, 'Driver']\n",
    "                avg_speed = fl_country.loc[driver_count, 'Avg Speed']\n",
    "                car = fl_country.loc[driver_count, 'Car']\n",
    "                if time == 'DNF':\n",
    "                    driver_count += 1\n",
    "                else:\n",
    "                    #time = re.sub(r'[^0-9.]', '', time)\n",
    "                    #timeFloat = float(time)\n",
    "                    formattedTime = datetime.strptime(time,'%M:%S.%f')\n",
    "                    formattedTime = formattedTime.strftime('%H:%M:%S.%f')[:-5]\n",
    "                    #finalTime = timeFloat + fastest_lap_bahrain_time.strftime('%M:%S.%f')[:-3]\n",
    "                    print(driverNo, name, car, country_name, formattedTime, avg_speed)\n",
    "                    driver_count += 1\n",
    "\n",
    "    except:\n",
    "        print(\"ERROR! Double check the arguments provided for the function.\\nHave you imported the race data CSV?\\nHas the fastest_lap data frame been created?\")"
   ]
  },
  {
   "cell_type": "markdown",
   "metadata": {},
   "source": [
    "# Bahrain DataFrame management"
   ]
  },
  {
   "cell_type": "code",
   "execution_count": 222,
   "metadata": {},
   "outputs": [
    {
     "data": {
      "text/html": [
       "<div>\n",
       "<style scoped>\n",
       "    .dataframe tbody tr th:only-of-type {\n",
       "        vertical-align: middle;\n",
       "    }\n",
       "\n",
       "    .dataframe tbody tr th {\n",
       "        vertical-align: top;\n",
       "    }\n",
       "\n",
       "    .dataframe thead th {\n",
       "        text-align: right;\n",
       "    }\n",
       "</style>\n",
       "<table border=\"1\" class=\"dataframe\">\n",
       "  <thead>\n",
       "    <tr style=\"text-align: right;\">\n",
       "      <th></th>\n",
       "      <th>Pos</th>\n",
       "      <th>No</th>\n",
       "      <th>Driver</th>\n",
       "      <th>Car</th>\n",
       "      <th>Lap</th>\n",
       "      <th>Time of day</th>\n",
       "      <th>Time</th>\n",
       "      <th>Avg Speed</th>\n",
       "    </tr>\n",
       "  </thead>\n",
       "  <tbody>\n",
       "    <tr>\n",
       "      <th>0</th>\n",
       "      <td>1</td>\n",
       "      <td>16</td>\n",
       "      <td>Charles Leclerc</td>\n",
       "      <td>Ferrari</td>\n",
       "      <td>51</td>\n",
       "      <td>19:31:35</td>\n",
       "      <td>01:34.6</td>\n",
       "      <td>206.018</td>\n",
       "    </tr>\n",
       "    <tr>\n",
       "      <th>1</th>\n",
       "      <td>2</td>\n",
       "      <td>1</td>\n",
       "      <td>Max Verstappen</td>\n",
       "      <td>Red Bull Racing RBPT</td>\n",
       "      <td>51</td>\n",
       "      <td>19:31:37</td>\n",
       "      <td>01:35.4</td>\n",
       "      <td>204.140</td>\n",
       "    </tr>\n",
       "    <tr>\n",
       "      <th>2</th>\n",
       "      <td>3</td>\n",
       "      <td>55</td>\n",
       "      <td>Carlos Sainz</td>\n",
       "      <td>Ferrari</td>\n",
       "      <td>52</td>\n",
       "      <td>19:33:13</td>\n",
       "      <td>01:35.7</td>\n",
       "      <td>203.501</td>\n",
       "    </tr>\n",
       "    <tr>\n",
       "      <th>3</th>\n",
       "      <td>4</td>\n",
       "      <td>11</td>\n",
       "      <td>Sergio Perez</td>\n",
       "      <td>Red Bull Racing RBPT</td>\n",
       "      <td>52</td>\n",
       "      <td>19:33:14</td>\n",
       "      <td>01:36.1</td>\n",
       "      <td>202.762</td>\n",
       "    </tr>\n",
       "    <tr>\n",
       "      <th>4</th>\n",
       "      <td>5</td>\n",
       "      <td>44</td>\n",
       "      <td>Lewis Hamilton</td>\n",
       "      <td>Mercedes</td>\n",
       "      <td>53</td>\n",
       "      <td>19:34:51</td>\n",
       "      <td>01:36.2</td>\n",
       "      <td>202.469</td>\n",
       "    </tr>\n",
       "  </tbody>\n",
       "</table>\n",
       "</div>"
      ],
      "text/plain": [
       "   Pos  No           Driver                   Car  Lap Time of day     Time  \\\n",
       "0    1  16  Charles Leclerc               Ferrari   51    19:31:35  01:34.6   \n",
       "1    2   1   Max Verstappen  Red Bull Racing RBPT   51    19:31:37  01:35.4   \n",
       "2    3  55     Carlos Sainz               Ferrari   52    19:33:13  01:35.7   \n",
       "3    4  11     Sergio Perez  Red Bull Racing RBPT   52    19:33:14  01:36.1   \n",
       "4    5  44   Lewis Hamilton              Mercedes   53    19:34:51  01:36.2   \n",
       "\n",
       "   Avg Speed  \n",
       "0    206.018  \n",
       "1    204.140  \n",
       "2    203.501  \n",
       "3    202.762  \n",
       "4    202.469  "
      ]
     },
     "execution_count": 222,
     "metadata": {},
     "output_type": "execute_result"
    }
   ],
   "source": [
    "fl_bahrain = pd.read_csv('data/fastest-lap/fl-bahrain.csv')\n",
    "fl_bahrain.head()"
   ]
  },
  {
   "cell_type": "code",
   "execution_count": 223,
   "metadata": {},
   "outputs": [
    {
     "name": "stdout",
     "output_type": "stream",
     "text": [
      "Adding data for BAHRAIN\n",
      "Commit mode is set to TRUE - data WILL be added to the fastest lap data frame!\n",
      "Data for BAHRAIN has been added!\n"
     ]
    }
   ],
   "source": [
    "addFastestLaps(fl_bahrain, \"BAHRAIN\", fastest_lap, True)"
   ]
  },
  {
   "cell_type": "code",
   "execution_count": 224,
   "metadata": {},
   "outputs": [],
   "source": [
    "# get data by specific driver\n",
    "#fastest_lap.loc[fastest_lap['DRIVER'] == 'Max Verstappen']"
   ]
  },
  {
   "cell_type": "code",
   "execution_count": 225,
   "metadata": {},
   "outputs": [],
   "source": [
    "#calculate the mean of the fastest laps and assign to variable\n",
    "#fl_mean = fastest_lap['FL'].mean()"
   ]
  },
  {
   "cell_type": "code",
   "execution_count": 226,
   "metadata": {},
   "outputs": [],
   "source": [
    "# display total seconds\n",
    "#fl_mean.total_seconds()"
   ]
  },
  {
   "cell_type": "code",
   "execution_count": 227,
   "metadata": {},
   "outputs": [],
   "source": [
    "#fastest_lap.head()"
   ]
  },
  {
   "cell_type": "markdown",
   "metadata": {},
   "source": [
    "# Saudi Arabia DataFrame management"
   ]
  },
  {
   "cell_type": "code",
   "execution_count": 228,
   "metadata": {},
   "outputs": [
    {
     "data": {
      "text/html": [
       "<div>\n",
       "<style scoped>\n",
       "    .dataframe tbody tr th:only-of-type {\n",
       "        vertical-align: middle;\n",
       "    }\n",
       "\n",
       "    .dataframe tbody tr th {\n",
       "        vertical-align: top;\n",
       "    }\n",
       "\n",
       "    .dataframe thead th {\n",
       "        text-align: right;\n",
       "    }\n",
       "</style>\n",
       "<table border=\"1\" class=\"dataframe\">\n",
       "  <thead>\n",
       "    <tr style=\"text-align: right;\">\n",
       "      <th></th>\n",
       "      <th>Pos</th>\n",
       "      <th>No</th>\n",
       "      <th>Driver</th>\n",
       "      <th>Car</th>\n",
       "      <th>Lap</th>\n",
       "      <th>Time of day</th>\n",
       "      <th>Time</th>\n",
       "      <th>Avg Speed</th>\n",
       "    </tr>\n",
       "  </thead>\n",
       "  <tbody>\n",
       "    <tr>\n",
       "      <th>0</th>\n",
       "      <td>1</td>\n",
       "      <td>16</td>\n",
       "      <td>Charles Leclerc</td>\n",
       "      <td>Ferrari</td>\n",
       "      <td>48</td>\n",
       "      <td>21:24:43</td>\n",
       "      <td>01:31.6</td>\n",
       "      <td>242.556</td>\n",
       "    </tr>\n",
       "    <tr>\n",
       "      <th>1</th>\n",
       "      <td>2</td>\n",
       "      <td>1</td>\n",
       "      <td>Max Verstappen</td>\n",
       "      <td>Red Bull Racing RBPT</td>\n",
       "      <td>50</td>\n",
       "      <td>21:27:46</td>\n",
       "      <td>01:31.8</td>\n",
       "      <td>242.191</td>\n",
       "    </tr>\n",
       "    <tr>\n",
       "      <th>2</th>\n",
       "      <td>3</td>\n",
       "      <td>55</td>\n",
       "      <td>Carlos Sainz</td>\n",
       "      <td>Ferrari</td>\n",
       "      <td>48</td>\n",
       "      <td>21:24:50</td>\n",
       "      <td>01:31.9</td>\n",
       "      <td>241.841</td>\n",
       "    </tr>\n",
       "    <tr>\n",
       "      <th>3</th>\n",
       "      <td>4</td>\n",
       "      <td>11</td>\n",
       "      <td>Sergio Perez</td>\n",
       "      <td>Red Bull Racing RBPT</td>\n",
       "      <td>46</td>\n",
       "      <td>21:21:47</td>\n",
       "      <td>01:32.0</td>\n",
       "      <td>241.481</td>\n",
       "    </tr>\n",
       "    <tr>\n",
       "      <th>4</th>\n",
       "      <td>5</td>\n",
       "      <td>4</td>\n",
       "      <td>Lando Norris</td>\n",
       "      <td>McLaren Mercedes</td>\n",
       "      <td>46</td>\n",
       "      <td>21:22:26</td>\n",
       "      <td>01:32.8</td>\n",
       "      <td>239.629</td>\n",
       "    </tr>\n",
       "  </tbody>\n",
       "</table>\n",
       "</div>"
      ],
      "text/plain": [
       "   Pos  No           Driver                   Car  Lap Time of day     Time  \\\n",
       "0    1  16  Charles Leclerc               Ferrari   48    21:24:43  01:31.6   \n",
       "1    2   1   Max Verstappen  Red Bull Racing RBPT   50    21:27:46  01:31.8   \n",
       "2    3  55     Carlos Sainz               Ferrari   48    21:24:50  01:31.9   \n",
       "3    4  11     Sergio Perez  Red Bull Racing RBPT   46    21:21:47  01:32.0   \n",
       "4    5   4     Lando Norris      McLaren Mercedes   46    21:22:26  01:32.8   \n",
       "\n",
       "   Avg Speed  \n",
       "0    242.556  \n",
       "1    242.191  \n",
       "2    241.841  \n",
       "3    241.481  \n",
       "4    239.629  "
      ]
     },
     "execution_count": 228,
     "metadata": {},
     "output_type": "execute_result"
    }
   ],
   "source": [
    "fl_saudi_arabia = pd.read_csv('data/fastest-lap/fl-saudi-arabia.csv')\n",
    "fl_saudi_arabia.head()"
   ]
  },
  {
   "cell_type": "code",
   "execution_count": 229,
   "metadata": {},
   "outputs": [
    {
     "name": "stdout",
     "output_type": "stream",
     "text": [
      "Adding data for SAUDI ARABIA\n",
      "Commit mode is set to TRUE - data WILL be added to the fastest lap data frame!\n",
      "Data for SAUDI ARABIA has been added!\n"
     ]
    }
   ],
   "source": [
    "addFastestLaps(fl_saudi_arabia, \"SAUDI ARABIA\", fastest_lap, True)"
   ]
  },
  {
   "cell_type": "markdown",
   "metadata": {},
   "source": [
    "# Australia DataFrame management"
   ]
  },
  {
   "cell_type": "code",
   "execution_count": 230,
   "metadata": {},
   "outputs": [
    {
     "data": {
      "text/html": [
       "<div>\n",
       "<style scoped>\n",
       "    .dataframe tbody tr th:only-of-type {\n",
       "        vertical-align: middle;\n",
       "    }\n",
       "\n",
       "    .dataframe tbody tr th {\n",
       "        vertical-align: top;\n",
       "    }\n",
       "\n",
       "    .dataframe thead th {\n",
       "        text-align: right;\n",
       "    }\n",
       "</style>\n",
       "<table border=\"1\" class=\"dataframe\">\n",
       "  <thead>\n",
       "    <tr style=\"text-align: right;\">\n",
       "      <th></th>\n",
       "      <th>Pos</th>\n",
       "      <th>No</th>\n",
       "      <th>Driver</th>\n",
       "      <th>Car</th>\n",
       "      <th>Lap</th>\n",
       "      <th>Time of day</th>\n",
       "      <th>Time</th>\n",
       "      <th>Avg Speed</th>\n",
       "    </tr>\n",
       "  </thead>\n",
       "  <tbody>\n",
       "    <tr>\n",
       "      <th>0</th>\n",
       "      <td>1</td>\n",
       "      <td>16</td>\n",
       "      <td>Charles Leclerc</td>\n",
       "      <td>Ferrari</td>\n",
       "      <td>58</td>\n",
       "      <td>16:30:59</td>\n",
       "      <td>01:20.3</td>\n",
       "      <td>236.740</td>\n",
       "    </tr>\n",
       "    <tr>\n",
       "      <th>1</th>\n",
       "      <td>2</td>\n",
       "      <td>14</td>\n",
       "      <td>Fernando Alonso</td>\n",
       "      <td>Alpine Renault</td>\n",
       "      <td>57</td>\n",
       "      <td>16:31:30</td>\n",
       "      <td>01:20.8</td>\n",
       "      <td>235.024</td>\n",
       "    </tr>\n",
       "    <tr>\n",
       "      <th>2</th>\n",
       "      <td>3</td>\n",
       "      <td>11</td>\n",
       "      <td>Sergio Perez</td>\n",
       "      <td>Red Bull Racing RBPT</td>\n",
       "      <td>58</td>\n",
       "      <td>16:31:20</td>\n",
       "      <td>01:21.1</td>\n",
       "      <td>234.305</td>\n",
       "    </tr>\n",
       "    <tr>\n",
       "      <th>3</th>\n",
       "      <td>4</td>\n",
       "      <td>63</td>\n",
       "      <td>George Russell</td>\n",
       "      <td>Mercedes</td>\n",
       "      <td>53</td>\n",
       "      <td>16:24:35</td>\n",
       "      <td>01:21.5</td>\n",
       "      <td>233.152</td>\n",
       "    </tr>\n",
       "    <tr>\n",
       "      <th>4</th>\n",
       "      <td>5</td>\n",
       "      <td>77</td>\n",
       "      <td>Valtteri Bottas</td>\n",
       "      <td>Alfa Romeo Ferrari</td>\n",
       "      <td>54</td>\n",
       "      <td>16:26:39</td>\n",
       "      <td>01:21.7</td>\n",
       "      <td>232.707</td>\n",
       "    </tr>\n",
       "  </tbody>\n",
       "</table>\n",
       "</div>"
      ],
      "text/plain": [
       "   Pos  No           Driver                   Car  Lap Time of day     Time  \\\n",
       "0    1  16  Charles Leclerc               Ferrari   58    16:30:59  01:20.3   \n",
       "1    2  14  Fernando Alonso        Alpine Renault   57    16:31:30  01:20.8   \n",
       "2    3  11     Sergio Perez  Red Bull Racing RBPT   58    16:31:20  01:21.1   \n",
       "3    4  63   George Russell              Mercedes   53    16:24:35  01:21.5   \n",
       "4    5  77  Valtteri Bottas    Alfa Romeo Ferrari   54    16:26:39  01:21.7   \n",
       "\n",
       "   Avg Speed  \n",
       "0    236.740  \n",
       "1    235.024  \n",
       "2    234.305  \n",
       "3    233.152  \n",
       "4    232.707  "
      ]
     },
     "execution_count": 230,
     "metadata": {},
     "output_type": "execute_result"
    }
   ],
   "source": [
    "fl_australia = pd.read_csv('data/fastest-lap/fl-australia.csv')\n",
    "fl_australia.head()"
   ]
  },
  {
   "cell_type": "code",
   "execution_count": 231,
   "metadata": {},
   "outputs": [
    {
     "name": "stdout",
     "output_type": "stream",
     "text": [
      "Adding data for AUSTRALIA\n",
      "Commit mode is set to TRUE - data WILL be added to the fastest lap data frame!\n",
      "Data for AUSTRALIA has been added!\n"
     ]
    }
   ],
   "source": [
    "addFastestLaps(fl_australia, \"AUSTRALIA\", fastest_lap, True)"
   ]
  },
  {
   "cell_type": "markdown",
   "metadata": {},
   "source": [
    "# Italy DataFrame Management"
   ]
  },
  {
   "cell_type": "code",
   "execution_count": 232,
   "metadata": {},
   "outputs": [
    {
     "data": {
      "text/html": [
       "<div>\n",
       "<style scoped>\n",
       "    .dataframe tbody tr th:only-of-type {\n",
       "        vertical-align: middle;\n",
       "    }\n",
       "\n",
       "    .dataframe tbody tr th {\n",
       "        vertical-align: top;\n",
       "    }\n",
       "\n",
       "    .dataframe thead th {\n",
       "        text-align: right;\n",
       "    }\n",
       "</style>\n",
       "<table border=\"1\" class=\"dataframe\">\n",
       "  <thead>\n",
       "    <tr style=\"text-align: right;\">\n",
       "      <th></th>\n",
       "      <th>Pos</th>\n",
       "      <th>No</th>\n",
       "      <th>Driver</th>\n",
       "      <th>Car</th>\n",
       "      <th>Lap</th>\n",
       "      <th>Time of day</th>\n",
       "      <th>Time</th>\n",
       "      <th>Avg Speed</th>\n",
       "    </tr>\n",
       "  </thead>\n",
       "  <tbody>\n",
       "    <tr>\n",
       "      <th>0</th>\n",
       "      <td>1</td>\n",
       "      <td>1</td>\n",
       "      <td>Max Verstappen</td>\n",
       "      <td>Red Bull Racing RBPT</td>\n",
       "      <td>55</td>\n",
       "      <td>16:24:32</td>\n",
       "      <td>01:18.4</td>\n",
       "      <td>225.281</td>\n",
       "    </tr>\n",
       "    <tr>\n",
       "      <th>1</th>\n",
       "      <td>2</td>\n",
       "      <td>16</td>\n",
       "      <td>Charles Leclerc</td>\n",
       "      <td>Ferrari</td>\n",
       "      <td>63</td>\n",
       "      <td>16:36:07</td>\n",
       "      <td>01:18.6</td>\n",
       "      <td>224.914</td>\n",
       "    </tr>\n",
       "    <tr>\n",
       "      <th>2</th>\n",
       "      <td>3</td>\n",
       "      <td>11</td>\n",
       "      <td>Sergio Perez</td>\n",
       "      <td>Red Bull Racing RBPT</td>\n",
       "      <td>52</td>\n",
       "      <td>16:20:46</td>\n",
       "      <td>01:18.9</td>\n",
       "      <td>223.845</td>\n",
       "    </tr>\n",
       "    <tr>\n",
       "      <th>3</th>\n",
       "      <td>4</td>\n",
       "      <td>47</td>\n",
       "      <td>Mick Schumacher</td>\n",
       "      <td>Haas Ferrari</td>\n",
       "      <td>55</td>\n",
       "      <td>16:26:33</td>\n",
       "      <td>01:19.0</td>\n",
       "      <td>223.704</td>\n",
       "    </tr>\n",
       "    <tr>\n",
       "      <th>4</th>\n",
       "      <td>5</td>\n",
       "      <td>22</td>\n",
       "      <td>Yuki Tsunoda</td>\n",
       "      <td>AlphaTauri RBPT</td>\n",
       "      <td>61</td>\n",
       "      <td>16:33:29</td>\n",
       "      <td>01:20.5</td>\n",
       "      <td>219.412</td>\n",
       "    </tr>\n",
       "  </tbody>\n",
       "</table>\n",
       "</div>"
      ],
      "text/plain": [
       "   Pos  No           Driver                   Car  Lap Time of day     Time  \\\n",
       "0    1   1   Max Verstappen  Red Bull Racing RBPT   55    16:24:32  01:18.4   \n",
       "1    2  16  Charles Leclerc               Ferrari   63    16:36:07  01:18.6   \n",
       "2    3  11     Sergio Perez  Red Bull Racing RBPT   52    16:20:46  01:18.9   \n",
       "3    4  47  Mick Schumacher          Haas Ferrari   55    16:26:33  01:19.0   \n",
       "4    5  22     Yuki Tsunoda       AlphaTauri RBPT   61    16:33:29  01:20.5   \n",
       "\n",
       "   Avg Speed  \n",
       "0    225.281  \n",
       "1    224.914  \n",
       "2    223.845  \n",
       "3    223.704  \n",
       "4    219.412  "
      ]
     },
     "execution_count": 232,
     "metadata": {},
     "output_type": "execute_result"
    }
   ],
   "source": [
    "fl_italy = pd.read_csv('data/fastest-lap/fl-italy.csv')\n",
    "fl_italy.head()"
   ]
  },
  {
   "cell_type": "code",
   "execution_count": 233,
   "metadata": {},
   "outputs": [
    {
     "name": "stdout",
     "output_type": "stream",
     "text": [
      "Adding data for ITALY\n",
      "Commit mode is set to TRUE - data WILL be added to the fastest lap data frame!\n",
      "Data for ITALY has been added!\n"
     ]
    }
   ],
   "source": [
    "addFastestLaps(fl_italy, \"ITALY\", fastest_lap, True)"
   ]
  },
  {
   "cell_type": "markdown",
   "metadata": {},
   "source": [
    "# Miami DataFrame Management"
   ]
  },
  {
   "cell_type": "code",
   "execution_count": 234,
   "metadata": {},
   "outputs": [
    {
     "data": {
      "text/html": [
       "<div>\n",
       "<style scoped>\n",
       "    .dataframe tbody tr th:only-of-type {\n",
       "        vertical-align: middle;\n",
       "    }\n",
       "\n",
       "    .dataframe tbody tr th {\n",
       "        vertical-align: top;\n",
       "    }\n",
       "\n",
       "    .dataframe thead th {\n",
       "        text-align: right;\n",
       "    }\n",
       "</style>\n",
       "<table border=\"1\" class=\"dataframe\">\n",
       "  <thead>\n",
       "    <tr style=\"text-align: right;\">\n",
       "      <th></th>\n",
       "      <th>Pos</th>\n",
       "      <th>No</th>\n",
       "      <th>Driver</th>\n",
       "      <th>Car</th>\n",
       "      <th>Lap</th>\n",
       "      <th>Time of day</th>\n",
       "      <th>Time</th>\n",
       "      <th>Avg Speed</th>\n",
       "    </tr>\n",
       "  </thead>\n",
       "  <tbody>\n",
       "    <tr>\n",
       "      <th>0</th>\n",
       "      <td>1</td>\n",
       "      <td>1</td>\n",
       "      <td>Max Verstappen</td>\n",
       "      <td>Red Bull Racing RBPT</td>\n",
       "      <td>54</td>\n",
       "      <td>17:03:04</td>\n",
       "      <td>01:31.4</td>\n",
       "      <td>213.255</td>\n",
       "    </tr>\n",
       "    <tr>\n",
       "      <th>1</th>\n",
       "      <td>2</td>\n",
       "      <td>16</td>\n",
       "      <td>Charles Leclerc</td>\n",
       "      <td>Ferrari</td>\n",
       "      <td>53</td>\n",
       "      <td>17:01:34</td>\n",
       "      <td>01:31.5</td>\n",
       "      <td>212.959</td>\n",
       "    </tr>\n",
       "    <tr>\n",
       "      <th>2</th>\n",
       "      <td>3</td>\n",
       "      <td>55</td>\n",
       "      <td>Carlos Sainz</td>\n",
       "      <td>Ferrari</td>\n",
       "      <td>56</td>\n",
       "      <td>17:06:15</td>\n",
       "      <td>01:31.8</td>\n",
       "      <td>212.258</td>\n",
       "    </tr>\n",
       "    <tr>\n",
       "      <th>3</th>\n",
       "      <td>4</td>\n",
       "      <td>11</td>\n",
       "      <td>Sergio Perez</td>\n",
       "      <td>Red Bull Racing RBPT</td>\n",
       "      <td>54</td>\n",
       "      <td>17:03:13</td>\n",
       "      <td>01:31.8</td>\n",
       "      <td>212.191</td>\n",
       "    </tr>\n",
       "    <tr>\n",
       "      <th>4</th>\n",
       "      <td>5</td>\n",
       "      <td>63</td>\n",
       "      <td>George Russell</td>\n",
       "      <td>Mercedes</td>\n",
       "      <td>56</td>\n",
       "      <td>17:06:25</td>\n",
       "      <td>01:32.2</td>\n",
       "      <td>211.325</td>\n",
       "    </tr>\n",
       "  </tbody>\n",
       "</table>\n",
       "</div>"
      ],
      "text/plain": [
       "   Pos  No           Driver                   Car  Lap Time of day     Time  \\\n",
       "0    1   1   Max Verstappen  Red Bull Racing RBPT   54    17:03:04  01:31.4   \n",
       "1    2  16  Charles Leclerc               Ferrari   53    17:01:34  01:31.5   \n",
       "2    3  55     Carlos Sainz               Ferrari   56    17:06:15  01:31.8   \n",
       "3    4  11     Sergio Perez  Red Bull Racing RBPT   54    17:03:13  01:31.8   \n",
       "4    5  63   George Russell              Mercedes   56    17:06:25  01:32.2   \n",
       "\n",
       "   Avg Speed  \n",
       "0    213.255  \n",
       "1    212.959  \n",
       "2    212.258  \n",
       "3    212.191  \n",
       "4    211.325  "
      ]
     },
     "execution_count": 234,
     "metadata": {},
     "output_type": "execute_result"
    }
   ],
   "source": [
    "fl_miami = pd.read_csv('data/fastest-lap/fl-miami.csv')\n",
    "fl_miami.head()"
   ]
  },
  {
   "cell_type": "code",
   "execution_count": 235,
   "metadata": {},
   "outputs": [
    {
     "name": "stdout",
     "output_type": "stream",
     "text": [
      "Adding data for MIAMI\n",
      "Commit mode is set to TRUE - data WILL be added to the fastest lap data frame!\n",
      "Data for MIAMI has been added!\n"
     ]
    }
   ],
   "source": [
    "addFastestLaps(fl_miami, \"MIAMI\", fastest_lap, True)"
   ]
  },
  {
   "cell_type": "markdown",
   "metadata": {},
   "source": [
    "# Spain DataFrame Management"
   ]
  },
  {
   "cell_type": "code",
   "execution_count": 236,
   "metadata": {},
   "outputs": [
    {
     "data": {
      "text/html": [
       "<div>\n",
       "<style scoped>\n",
       "    .dataframe tbody tr th:only-of-type {\n",
       "        vertical-align: middle;\n",
       "    }\n",
       "\n",
       "    .dataframe tbody tr th {\n",
       "        vertical-align: top;\n",
       "    }\n",
       "\n",
       "    .dataframe thead th {\n",
       "        text-align: right;\n",
       "    }\n",
       "</style>\n",
       "<table border=\"1\" class=\"dataframe\">\n",
       "  <thead>\n",
       "    <tr style=\"text-align: right;\">\n",
       "      <th></th>\n",
       "      <th>Pos</th>\n",
       "      <th>No</th>\n",
       "      <th>Driver</th>\n",
       "      <th>Car</th>\n",
       "      <th>Lap</th>\n",
       "      <th>Time of day</th>\n",
       "      <th>Time</th>\n",
       "      <th>Avg Speed</th>\n",
       "    </tr>\n",
       "  </thead>\n",
       "  <tbody>\n",
       "    <tr>\n",
       "      <th>0</th>\n",
       "      <td>1</td>\n",
       "      <td>11</td>\n",
       "      <td>Sergio Perez</td>\n",
       "      <td>Red Bull Racing RBPT</td>\n",
       "      <td>55</td>\n",
       "      <td>16:25:00</td>\n",
       "      <td>01:24.1</td>\n",
       "      <td>200.099</td>\n",
       "    </tr>\n",
       "    <tr>\n",
       "      <th>1</th>\n",
       "      <td>2</td>\n",
       "      <td>44</td>\n",
       "      <td>Lewis Hamilton</td>\n",
       "      <td>Mercedes</td>\n",
       "      <td>51</td>\n",
       "      <td>16:19:36</td>\n",
       "      <td>01:24.3</td>\n",
       "      <td>199.755</td>\n",
       "    </tr>\n",
       "    <tr>\n",
       "      <th>2</th>\n",
       "      <td>3</td>\n",
       "      <td>63</td>\n",
       "      <td>George Russell</td>\n",
       "      <td>Mercedes</td>\n",
       "      <td>53</td>\n",
       "      <td>16:22:13</td>\n",
       "      <td>01:24.6</td>\n",
       "      <td>198.851</td>\n",
       "    </tr>\n",
       "    <tr>\n",
       "      <th>3</th>\n",
       "      <td>4</td>\n",
       "      <td>1</td>\n",
       "      <td>Max Verstappen</td>\n",
       "      <td>Red Bull Racing RBPT</td>\n",
       "      <td>46</td>\n",
       "      <td>16:11:38</td>\n",
       "      <td>01:25.5</td>\n",
       "      <td>196.943</td>\n",
       "    </tr>\n",
       "    <tr>\n",
       "      <th>4</th>\n",
       "      <td>5</td>\n",
       "      <td>4</td>\n",
       "      <td>Lando Norris</td>\n",
       "      <td>McLaren Mercedes</td>\n",
       "      <td>53</td>\n",
       "      <td>16:23:01</td>\n",
       "      <td>01:25.6</td>\n",
       "      <td>196.568</td>\n",
       "    </tr>\n",
       "  </tbody>\n",
       "</table>\n",
       "</div>"
      ],
      "text/plain": [
       "   Pos  No          Driver                   Car  Lap Time of day     Time  \\\n",
       "0    1  11    Sergio Perez  Red Bull Racing RBPT   55    16:25:00  01:24.1   \n",
       "1    2  44  Lewis Hamilton              Mercedes   51    16:19:36  01:24.3   \n",
       "2    3  63  George Russell              Mercedes   53    16:22:13  01:24.6   \n",
       "3    4   1  Max Verstappen  Red Bull Racing RBPT   46    16:11:38  01:25.5   \n",
       "4    5   4    Lando Norris      McLaren Mercedes   53    16:23:01  01:25.6   \n",
       "\n",
       "   Avg Speed  \n",
       "0    200.099  \n",
       "1    199.755  \n",
       "2    198.851  \n",
       "3    196.943  \n",
       "4    196.568  "
      ]
     },
     "execution_count": 236,
     "metadata": {},
     "output_type": "execute_result"
    }
   ],
   "source": [
    "fl_spain = pd.read_csv('data/fastest-lap/fl-spain.csv')\n",
    "fl_spain.head()"
   ]
  },
  {
   "cell_type": "code",
   "execution_count": 237,
   "metadata": {},
   "outputs": [
    {
     "name": "stdout",
     "output_type": "stream",
     "text": [
      "Adding data for SPAIN\n",
      "Commit mode is set to TRUE - data WILL be added to the fastest lap data frame!\n",
      "Data for SPAIN has been added!\n"
     ]
    }
   ],
   "source": [
    "addFastestLaps(fl_spain, \"SPAIN\", fastest_lap, True)"
   ]
  },
  {
   "cell_type": "markdown",
   "metadata": {},
   "source": [
    "# Monaco DataFrame Management"
   ]
  },
  {
   "cell_type": "code",
   "execution_count": 238,
   "metadata": {},
   "outputs": [
    {
     "data": {
      "text/html": [
       "<div>\n",
       "<style scoped>\n",
       "    .dataframe tbody tr th:only-of-type {\n",
       "        vertical-align: middle;\n",
       "    }\n",
       "\n",
       "    .dataframe tbody tr th {\n",
       "        vertical-align: top;\n",
       "    }\n",
       "\n",
       "    .dataframe thead th {\n",
       "        text-align: right;\n",
       "    }\n",
       "</style>\n",
       "<table border=\"1\" class=\"dataframe\">\n",
       "  <thead>\n",
       "    <tr style=\"text-align: right;\">\n",
       "      <th></th>\n",
       "      <th>Pos</th>\n",
       "      <th>No</th>\n",
       "      <th>Driver</th>\n",
       "      <th>Car</th>\n",
       "      <th>Lap</th>\n",
       "      <th>Time of day</th>\n",
       "      <th>Time</th>\n",
       "      <th>Avg Speed</th>\n",
       "    </tr>\n",
       "  </thead>\n",
       "  <tbody>\n",
       "    <tr>\n",
       "      <th>0</th>\n",
       "      <td>1</td>\n",
       "      <td>4</td>\n",
       "      <td>Lando Norris</td>\n",
       "      <td>McLaren Mercedes</td>\n",
       "      <td>55</td>\n",
       "      <td>17:50:21</td>\n",
       "      <td>01:14.7</td>\n",
       "      <td>160.834</td>\n",
       "    </tr>\n",
       "    <tr>\n",
       "      <th>1</th>\n",
       "      <td>2</td>\n",
       "      <td>22</td>\n",
       "      <td>Yuki Tsunoda</td>\n",
       "      <td>AlphaTauri RBPT</td>\n",
       "      <td>61</td>\n",
       "      <td>17:59:29</td>\n",
       "      <td>01:15.3</td>\n",
       "      <td>159.465</td>\n",
       "    </tr>\n",
       "    <tr>\n",
       "      <th>2</th>\n",
       "      <td>3</td>\n",
       "      <td>14</td>\n",
       "      <td>Fernando Alonso</td>\n",
       "      <td>Alpine Renault</td>\n",
       "      <td>50</td>\n",
       "      <td>17:44:03</td>\n",
       "      <td>01:15.9</td>\n",
       "      <td>158.314</td>\n",
       "    </tr>\n",
       "    <tr>\n",
       "      <th>3</th>\n",
       "      <td>4</td>\n",
       "      <td>11</td>\n",
       "      <td>Sergio Perez</td>\n",
       "      <td>Red Bull Racing RBPT</td>\n",
       "      <td>46</td>\n",
       "      <td>17:38:05</td>\n",
       "      <td>01:16.0</td>\n",
       "      <td>158.010</td>\n",
       "    </tr>\n",
       "    <tr>\n",
       "      <th>4</th>\n",
       "      <td>5</td>\n",
       "      <td>1</td>\n",
       "      <td>Max Verstappen</td>\n",
       "      <td>Red Bull Racing RBPT</td>\n",
       "      <td>47</td>\n",
       "      <td>17:39:26</td>\n",
       "      <td>01:16.1</td>\n",
       "      <td>157.960</td>\n",
       "    </tr>\n",
       "  </tbody>\n",
       "</table>\n",
       "</div>"
      ],
      "text/plain": [
       "   Pos  No           Driver                   Car  Lap Time of day     Time  \\\n",
       "0    1   4     Lando Norris      McLaren Mercedes   55    17:50:21  01:14.7   \n",
       "1    2  22     Yuki Tsunoda       AlphaTauri RBPT   61    17:59:29  01:15.3   \n",
       "2    3  14  Fernando Alonso        Alpine Renault   50    17:44:03  01:15.9   \n",
       "3    4  11     Sergio Perez  Red Bull Racing RBPT   46    17:38:05  01:16.0   \n",
       "4    5   1   Max Verstappen  Red Bull Racing RBPT   47    17:39:26  01:16.1   \n",
       "\n",
       "   Avg Speed  \n",
       "0    160.834  \n",
       "1    159.465  \n",
       "2    158.314  \n",
       "3    158.010  \n",
       "4    157.960  "
      ]
     },
     "execution_count": 238,
     "metadata": {},
     "output_type": "execute_result"
    }
   ],
   "source": [
    "fl_monaco = pd.read_csv('data/fastest-lap/fl-monaco.csv')\n",
    "fl_monaco.head()"
   ]
  },
  {
   "cell_type": "code",
   "execution_count": 239,
   "metadata": {},
   "outputs": [
    {
     "name": "stdout",
     "output_type": "stream",
     "text": [
      "Adding data for MONACO\n",
      "Commit mode is set to TRUE - data WILL be added to the fastest lap data frame!\n",
      "Data for MONACO has been added!\n"
     ]
    }
   ],
   "source": [
    "addFastestLaps(fl_monaco, \"MONACO\", fastest_lap, True)"
   ]
  },
  {
   "cell_type": "markdown",
   "metadata": {},
   "source": [
    "# Azerbaijan DataFrame Management"
   ]
  },
  {
   "cell_type": "code",
   "execution_count": 240,
   "metadata": {},
   "outputs": [
    {
     "data": {
      "text/html": [
       "<div>\n",
       "<style scoped>\n",
       "    .dataframe tbody tr th:only-of-type {\n",
       "        vertical-align: middle;\n",
       "    }\n",
       "\n",
       "    .dataframe tbody tr th {\n",
       "        vertical-align: top;\n",
       "    }\n",
       "\n",
       "    .dataframe thead th {\n",
       "        text-align: right;\n",
       "    }\n",
       "</style>\n",
       "<table border=\"1\" class=\"dataframe\">\n",
       "  <thead>\n",
       "    <tr style=\"text-align: right;\">\n",
       "      <th></th>\n",
       "      <th>Pos</th>\n",
       "      <th>No</th>\n",
       "      <th>Driver</th>\n",
       "      <th>Car</th>\n",
       "      <th>Lap</th>\n",
       "      <th>Time of day</th>\n",
       "      <th>Time</th>\n",
       "      <th>Avg Speed</th>\n",
       "    </tr>\n",
       "  </thead>\n",
       "  <tbody>\n",
       "    <tr>\n",
       "      <th>0</th>\n",
       "      <td>1</td>\n",
       "      <td>11</td>\n",
       "      <td>Sergio Perez</td>\n",
       "      <td>Red Bull Racing RBPT</td>\n",
       "      <td>36</td>\n",
       "      <td>16:11:32</td>\n",
       "      <td>01:46.0</td>\n",
       "      <td>203.787</td>\n",
       "    </tr>\n",
       "    <tr>\n",
       "      <th>1</th>\n",
       "      <td>2</td>\n",
       "      <td>1</td>\n",
       "      <td>Max Verstappen</td>\n",
       "      <td>Red Bull Racing RBPT</td>\n",
       "      <td>50</td>\n",
       "      <td>16:36:14</td>\n",
       "      <td>01:46.1</td>\n",
       "      <td>203.779</td>\n",
       "    </tr>\n",
       "    <tr>\n",
       "      <th>2</th>\n",
       "      <td>3</td>\n",
       "      <td>44</td>\n",
       "      <td>Lewis Hamilton</td>\n",
       "      <td>Mercedes</td>\n",
       "      <td>39</td>\n",
       "      <td>16:17:36</td>\n",
       "      <td>01:47.0</td>\n",
       "      <td>201.887</td>\n",
       "    </tr>\n",
       "    <tr>\n",
       "      <th>3</th>\n",
       "      <td>4</td>\n",
       "      <td>63</td>\n",
       "      <td>George Russell</td>\n",
       "      <td>Mercedes</td>\n",
       "      <td>42</td>\n",
       "      <td>16:22:38</td>\n",
       "      <td>01:47.2</td>\n",
       "      <td>201.636</td>\n",
       "    </tr>\n",
       "    <tr>\n",
       "      <th>4</th>\n",
       "      <td>5</td>\n",
       "      <td>22</td>\n",
       "      <td>Yuki Tsunoda</td>\n",
       "      <td>AlphaTauri RBPT</td>\n",
       "      <td>42</td>\n",
       "      <td>16:23:46</td>\n",
       "      <td>01:47.5</td>\n",
       "      <td>200.987</td>\n",
       "    </tr>\n",
       "  </tbody>\n",
       "</table>\n",
       "</div>"
      ],
      "text/plain": [
       "   Pos  No          Driver                   Car  Lap Time of day     Time  \\\n",
       "0    1  11    Sergio Perez  Red Bull Racing RBPT   36    16:11:32  01:46.0   \n",
       "1    2   1  Max Verstappen  Red Bull Racing RBPT   50    16:36:14  01:46.1   \n",
       "2    3  44  Lewis Hamilton              Mercedes   39    16:17:36  01:47.0   \n",
       "3    4  63  George Russell              Mercedes   42    16:22:38  01:47.2   \n",
       "4    5  22    Yuki Tsunoda       AlphaTauri RBPT   42    16:23:46  01:47.5   \n",
       "\n",
       "   Avg Speed  \n",
       "0    203.787  \n",
       "1    203.779  \n",
       "2    201.887  \n",
       "3    201.636  \n",
       "4    200.987  "
      ]
     },
     "execution_count": 240,
     "metadata": {},
     "output_type": "execute_result"
    }
   ],
   "source": [
    "fl_azerbaijan = pd.read_csv('data/fastest-lap/fl-azerbaijan.csv')\n",
    "fl_azerbaijan.head()"
   ]
  },
  {
   "cell_type": "code",
   "execution_count": 241,
   "metadata": {},
   "outputs": [
    {
     "name": "stdout",
     "output_type": "stream",
     "text": [
      "Adding data for AZERBAIJAN\n",
      "Commit mode is set to TRUE - data WILL be added to the fastest lap data frame!\n",
      "Data for AZERBAIJAN has been added!\n"
     ]
    }
   ],
   "source": [
    "addFastestLaps(fl_azerbaijan, \"AZERBAIJAN\", fastest_lap, True)"
   ]
  },
  {
   "cell_type": "markdown",
   "metadata": {},
   "source": [
    "# Canada DataFrame Management"
   ]
  },
  {
   "cell_type": "code",
   "execution_count": 242,
   "metadata": {},
   "outputs": [
    {
     "data": {
      "text/html": [
       "<div>\n",
       "<style scoped>\n",
       "    .dataframe tbody tr th:only-of-type {\n",
       "        vertical-align: middle;\n",
       "    }\n",
       "\n",
       "    .dataframe tbody tr th {\n",
       "        vertical-align: top;\n",
       "    }\n",
       "\n",
       "    .dataframe thead th {\n",
       "        text-align: right;\n",
       "    }\n",
       "</style>\n",
       "<table border=\"1\" class=\"dataframe\">\n",
       "  <thead>\n",
       "    <tr style=\"text-align: right;\">\n",
       "      <th></th>\n",
       "      <th>Pos</th>\n",
       "      <th>No</th>\n",
       "      <th>Driver</th>\n",
       "      <th>Car</th>\n",
       "      <th>Lap</th>\n",
       "      <th>Time of day</th>\n",
       "      <th>Time</th>\n",
       "      <th>Avg Speed</th>\n",
       "    </tr>\n",
       "  </thead>\n",
       "  <tbody>\n",
       "    <tr>\n",
       "      <th>0</th>\n",
       "      <td>1</td>\n",
       "      <td>55</td>\n",
       "      <td>Carlos Sainz</td>\n",
       "      <td>Ferrari</td>\n",
       "      <td>63</td>\n",
       "      <td>15:30:43</td>\n",
       "      <td>01:15.7</td>\n",
       "      <td>207.258</td>\n",
       "    </tr>\n",
       "    <tr>\n",
       "      <th>1</th>\n",
       "      <td>2</td>\n",
       "      <td>1</td>\n",
       "      <td>Max Verstappen</td>\n",
       "      <td>Red Bull Racing RBPT</td>\n",
       "      <td>64</td>\n",
       "      <td>15:31:59</td>\n",
       "      <td>01:15.8</td>\n",
       "      <td>207.012</td>\n",
       "    </tr>\n",
       "    <tr>\n",
       "      <th>2</th>\n",
       "      <td>3</td>\n",
       "      <td>16</td>\n",
       "      <td>Charles Leclerc</td>\n",
       "      <td>Ferrari</td>\n",
       "      <td>62</td>\n",
       "      <td>15:29:37</td>\n",
       "      <td>01:15.9</td>\n",
       "      <td>206.843</td>\n",
       "    </tr>\n",
       "    <tr>\n",
       "      <th>3</th>\n",
       "      <td>4</td>\n",
       "      <td>44</td>\n",
       "      <td>Lewis Hamilton</td>\n",
       "      <td>Mercedes</td>\n",
       "      <td>69</td>\n",
       "      <td>15:38:25</td>\n",
       "      <td>01:16.2</td>\n",
       "      <td>206.120</td>\n",
       "    </tr>\n",
       "    <tr>\n",
       "      <th>4</th>\n",
       "      <td>5</td>\n",
       "      <td>63</td>\n",
       "      <td>George Russell</td>\n",
       "      <td>Mercedes</td>\n",
       "      <td>63</td>\n",
       "      <td>15:30:51</td>\n",
       "      <td>01:16.4</td>\n",
       "      <td>205.443</td>\n",
       "    </tr>\n",
       "  </tbody>\n",
       "</table>\n",
       "</div>"
      ],
      "text/plain": [
       "   Pos  No           Driver                   Car  Lap Time of day     Time  \\\n",
       "0    1  55     Carlos Sainz               Ferrari   63    15:30:43  01:15.7   \n",
       "1    2   1   Max Verstappen  Red Bull Racing RBPT   64    15:31:59  01:15.8   \n",
       "2    3  16  Charles Leclerc               Ferrari   62    15:29:37  01:15.9   \n",
       "3    4  44   Lewis Hamilton              Mercedes   69    15:38:25  01:16.2   \n",
       "4    5  63   George Russell              Mercedes   63    15:30:51  01:16.4   \n",
       "\n",
       "   Avg Speed  \n",
       "0    207.258  \n",
       "1    207.012  \n",
       "2    206.843  \n",
       "3    206.120  \n",
       "4    205.443  "
      ]
     },
     "execution_count": 242,
     "metadata": {},
     "output_type": "execute_result"
    }
   ],
   "source": [
    "fl_canada = pd.read_csv('data/fastest-lap/fl-canada.csv')\n",
    "fl_canada.head()"
   ]
  },
  {
   "cell_type": "code",
   "execution_count": 243,
   "metadata": {},
   "outputs": [
    {
     "name": "stdout",
     "output_type": "stream",
     "text": [
      "Adding data for CANADA\n",
      "Commit mode is set to TRUE - data WILL be added to the fastest lap data frame!\n",
      "Data for CANADA has been added!\n"
     ]
    }
   ],
   "source": [
    "addFastestLaps(fl_canada, \"CANADA\", fastest_lap, True)"
   ]
  },
  {
   "cell_type": "markdown",
   "metadata": {},
   "source": [
    "# Great Britain DataFrame Management"
   ]
  },
  {
   "cell_type": "code",
   "execution_count": 244,
   "metadata": {},
   "outputs": [
    {
     "data": {
      "text/html": [
       "<div>\n",
       "<style scoped>\n",
       "    .dataframe tbody tr th:only-of-type {\n",
       "        vertical-align: middle;\n",
       "    }\n",
       "\n",
       "    .dataframe tbody tr th {\n",
       "        vertical-align: top;\n",
       "    }\n",
       "\n",
       "    .dataframe thead th {\n",
       "        text-align: right;\n",
       "    }\n",
       "</style>\n",
       "<table border=\"1\" class=\"dataframe\">\n",
       "  <thead>\n",
       "    <tr style=\"text-align: right;\">\n",
       "      <th></th>\n",
       "      <th>Pos</th>\n",
       "      <th>No</th>\n",
       "      <th>Driver</th>\n",
       "      <th>Car</th>\n",
       "      <th>Lap</th>\n",
       "      <th>Time of day</th>\n",
       "      <th>Time</th>\n",
       "      <th>Avg Speed</th>\n",
       "    </tr>\n",
       "  </thead>\n",
       "  <tbody>\n",
       "    <tr>\n",
       "      <th>0</th>\n",
       "      <td>1</td>\n",
       "      <td>44</td>\n",
       "      <td>Lewis Hamilton</td>\n",
       "      <td>Mercedes</td>\n",
       "      <td>52</td>\n",
       "      <td>17:21:12</td>\n",
       "      <td>01:30.5</td>\n",
       "      <td>234.312</td>\n",
       "    </tr>\n",
       "    <tr>\n",
       "      <th>1</th>\n",
       "      <td>2</td>\n",
       "      <td>55</td>\n",
       "      <td>Carlos Sainz</td>\n",
       "      <td>Ferrari</td>\n",
       "      <td>44</td>\n",
       "      <td>17:08:55</td>\n",
       "      <td>01:30.8</td>\n",
       "      <td>233.530</td>\n",
       "    </tr>\n",
       "    <tr>\n",
       "      <th>2</th>\n",
       "      <td>3</td>\n",
       "      <td>11</td>\n",
       "      <td>Sergio Perez</td>\n",
       "      <td>Red Bull Racing RBPT</td>\n",
       "      <td>47</td>\n",
       "      <td>17:13:33</td>\n",
       "      <td>01:30.9</td>\n",
       "      <td>233.212</td>\n",
       "    </tr>\n",
       "    <tr>\n",
       "      <th>3</th>\n",
       "      <td>4</td>\n",
       "      <td>16</td>\n",
       "      <td>Charles Leclerc</td>\n",
       "      <td>Ferrari</td>\n",
       "      <td>52</td>\n",
       "      <td>17:21:14</td>\n",
       "      <td>01:31.3</td>\n",
       "      <td>232.330</td>\n",
       "    </tr>\n",
       "    <tr>\n",
       "      <th>4</th>\n",
       "      <td>5</td>\n",
       "      <td>14</td>\n",
       "      <td>Fernando Alonso</td>\n",
       "      <td>Alpine Renault</td>\n",
       "      <td>47</td>\n",
       "      <td>17:13:35</td>\n",
       "      <td>01:31.6</td>\n",
       "      <td>231.501</td>\n",
       "    </tr>\n",
       "  </tbody>\n",
       "</table>\n",
       "</div>"
      ],
      "text/plain": [
       "   Pos  No           Driver                   Car  Lap Time of day     Time  \\\n",
       "0    1  44   Lewis Hamilton              Mercedes   52    17:21:12  01:30.5   \n",
       "1    2  55     Carlos Sainz               Ferrari   44    17:08:55  01:30.8   \n",
       "2    3  11     Sergio Perez  Red Bull Racing RBPT   47    17:13:33  01:30.9   \n",
       "3    4  16  Charles Leclerc               Ferrari   52    17:21:14  01:31.3   \n",
       "4    5  14  Fernando Alonso        Alpine Renault   47    17:13:35  01:31.6   \n",
       "\n",
       "   Avg Speed  \n",
       "0    234.312  \n",
       "1    233.530  \n",
       "2    233.212  \n",
       "3    232.330  \n",
       "4    231.501  "
      ]
     },
     "execution_count": 244,
     "metadata": {},
     "output_type": "execute_result"
    }
   ],
   "source": [
    "fl_gb = pd.read_csv('data/fastest-lap/fl-greatbritain.csv')\n",
    "fl_gb.head()"
   ]
  },
  {
   "cell_type": "code",
   "execution_count": 245,
   "metadata": {},
   "outputs": [
    {
     "name": "stdout",
     "output_type": "stream",
     "text": [
      "Adding data for GREAT BRITAIN\n",
      "Commit mode is set to TRUE - data WILL be added to the fastest lap data frame!\n",
      "Data for GREAT BRITAIN has been added!\n"
     ]
    }
   ],
   "source": [
    "addFastestLaps(fl_gb, \"GREAT BRITAIN\", fastest_lap, True)"
   ]
  },
  {
   "cell_type": "markdown",
   "metadata": {},
   "source": [
    "# Austria DataFrame Management"
   ]
  },
  {
   "cell_type": "code",
   "execution_count": 246,
   "metadata": {},
   "outputs": [
    {
     "data": {
      "text/html": [
       "<div>\n",
       "<style scoped>\n",
       "    .dataframe tbody tr th:only-of-type {\n",
       "        vertical-align: middle;\n",
       "    }\n",
       "\n",
       "    .dataframe tbody tr th {\n",
       "        vertical-align: top;\n",
       "    }\n",
       "\n",
       "    .dataframe thead th {\n",
       "        text-align: right;\n",
       "    }\n",
       "</style>\n",
       "<table border=\"1\" class=\"dataframe\">\n",
       "  <thead>\n",
       "    <tr style=\"text-align: right;\">\n",
       "      <th></th>\n",
       "      <th>Pos</th>\n",
       "      <th>No</th>\n",
       "      <th>Driver</th>\n",
       "      <th>Car</th>\n",
       "      <th>Lap</th>\n",
       "      <th>Time of day</th>\n",
       "      <th>Time</th>\n",
       "      <th>Avg Speed</th>\n",
       "    </tr>\n",
       "  </thead>\n",
       "  <tbody>\n",
       "    <tr>\n",
       "      <th>0</th>\n",
       "      <td>1</td>\n",
       "      <td>44</td>\n",
       "      <td>Lewis Hamilton</td>\n",
       "      <td>Mercedes</td>\n",
       "      <td>52</td>\n",
       "      <td>17:21:12</td>\n",
       "      <td>01:30.5</td>\n",
       "      <td>234.312</td>\n",
       "    </tr>\n",
       "    <tr>\n",
       "      <th>1</th>\n",
       "      <td>2</td>\n",
       "      <td>55</td>\n",
       "      <td>Carlos Sainz</td>\n",
       "      <td>Ferrari</td>\n",
       "      <td>44</td>\n",
       "      <td>17:08:55</td>\n",
       "      <td>01:30.8</td>\n",
       "      <td>233.530</td>\n",
       "    </tr>\n",
       "    <tr>\n",
       "      <th>2</th>\n",
       "      <td>3</td>\n",
       "      <td>11</td>\n",
       "      <td>Sergio Perez</td>\n",
       "      <td>Red Bull Racing RBPT</td>\n",
       "      <td>47</td>\n",
       "      <td>17:13:33</td>\n",
       "      <td>01:30.9</td>\n",
       "      <td>233.212</td>\n",
       "    </tr>\n",
       "    <tr>\n",
       "      <th>3</th>\n",
       "      <td>4</td>\n",
       "      <td>16</td>\n",
       "      <td>Charles Leclerc</td>\n",
       "      <td>Ferrari</td>\n",
       "      <td>52</td>\n",
       "      <td>17:21:14</td>\n",
       "      <td>01:31.3</td>\n",
       "      <td>232.330</td>\n",
       "    </tr>\n",
       "    <tr>\n",
       "      <th>4</th>\n",
       "      <td>5</td>\n",
       "      <td>14</td>\n",
       "      <td>Fernando Alonso</td>\n",
       "      <td>Alpine Renault</td>\n",
       "      <td>47</td>\n",
       "      <td>17:13:35</td>\n",
       "      <td>01:31.6</td>\n",
       "      <td>231.501</td>\n",
       "    </tr>\n",
       "  </tbody>\n",
       "</table>\n",
       "</div>"
      ],
      "text/plain": [
       "   Pos  No           Driver                   Car  Lap Time of day     Time  \\\n",
       "0    1  44   Lewis Hamilton              Mercedes   52    17:21:12  01:30.5   \n",
       "1    2  55     Carlos Sainz               Ferrari   44    17:08:55  01:30.8   \n",
       "2    3  11     Sergio Perez  Red Bull Racing RBPT   47    17:13:33  01:30.9   \n",
       "3    4  16  Charles Leclerc               Ferrari   52    17:21:14  01:31.3   \n",
       "4    5  14  Fernando Alonso        Alpine Renault   47    17:13:35  01:31.6   \n",
       "\n",
       "   Avg Speed  \n",
       "0    234.312  \n",
       "1    233.530  \n",
       "2    233.212  \n",
       "3    232.330  \n",
       "4    231.501  "
      ]
     },
     "execution_count": 246,
     "metadata": {},
     "output_type": "execute_result"
    }
   ],
   "source": [
    "fl_austria = pd.read_csv('data/fastest-lap/fl-austria.csv')\n",
    "fl_gb.head()"
   ]
  },
  {
   "cell_type": "code",
   "execution_count": 247,
   "metadata": {},
   "outputs": [
    {
     "name": "stdout",
     "output_type": "stream",
     "text": [
      "Adding data for AUSTRIA\n",
      "Commit mode is set to TRUE - data WILL be added to the fastest lap data frame!\n",
      "Data for AUSTRIA has been added!\n"
     ]
    }
   ],
   "source": [
    "addFastestLaps(fl_austria, \"AUSTRIA\", fastest_lap, True)"
   ]
  },
  {
   "cell_type": "markdown",
   "metadata": {},
   "source": [
    "# France DataFrame Management"
   ]
  },
  {
   "cell_type": "code",
   "execution_count": 248,
   "metadata": {},
   "outputs": [
    {
     "data": {
      "text/html": [
       "<div>\n",
       "<style scoped>\n",
       "    .dataframe tbody tr th:only-of-type {\n",
       "        vertical-align: middle;\n",
       "    }\n",
       "\n",
       "    .dataframe tbody tr th {\n",
       "        vertical-align: top;\n",
       "    }\n",
       "\n",
       "    .dataframe thead th {\n",
       "        text-align: right;\n",
       "    }\n",
       "</style>\n",
       "<table border=\"1\" class=\"dataframe\">\n",
       "  <thead>\n",
       "    <tr style=\"text-align: right;\">\n",
       "      <th></th>\n",
       "      <th>Pos</th>\n",
       "      <th>No</th>\n",
       "      <th>Driver</th>\n",
       "      <th>Car</th>\n",
       "      <th>Lap</th>\n",
       "      <th>Time of day</th>\n",
       "      <th>Time</th>\n",
       "      <th>Avg Speed</th>\n",
       "    </tr>\n",
       "  </thead>\n",
       "  <tbody>\n",
       "    <tr>\n",
       "      <th>0</th>\n",
       "      <td>1</td>\n",
       "      <td>55</td>\n",
       "      <td>Carlos Sainz</td>\n",
       "      <td>Ferrari</td>\n",
       "      <td>51</td>\n",
       "      <td>16:30:58</td>\n",
       "      <td>01:35.8</td>\n",
       "      <td>219.575</td>\n",
       "    </tr>\n",
       "    <tr>\n",
       "      <th>1</th>\n",
       "      <td>2</td>\n",
       "      <td>1</td>\n",
       "      <td>Max Verstappen</td>\n",
       "      <td>Red Bull Racing RBPT</td>\n",
       "      <td>30</td>\n",
       "      <td>15:55:33</td>\n",
       "      <td>01:37.5</td>\n",
       "      <td>215.724</td>\n",
       "    </tr>\n",
       "    <tr>\n",
       "      <th>2</th>\n",
       "      <td>3</td>\n",
       "      <td>63</td>\n",
       "      <td>George Russell</td>\n",
       "      <td>Mercedes</td>\n",
       "      <td>51</td>\n",
       "      <td>16:30:42</td>\n",
       "      <td>01:37.5</td>\n",
       "      <td>215.598</td>\n",
       "    </tr>\n",
       "    <tr>\n",
       "      <th>3</th>\n",
       "      <td>4</td>\n",
       "      <td>44</td>\n",
       "      <td>Lewis Hamilton</td>\n",
       "      <td>Mercedes</td>\n",
       "      <td>30</td>\n",
       "      <td>15:55:37</td>\n",
       "      <td>01:37.7</td>\n",
       "      <td>215.333</td>\n",
       "    </tr>\n",
       "    <tr>\n",
       "      <th>4</th>\n",
       "      <td>5</td>\n",
       "      <td>11</td>\n",
       "      <td>Sergio Perez</td>\n",
       "      <td>Red Bull Racing RBPT</td>\n",
       "      <td>45</td>\n",
       "      <td>16:20:19</td>\n",
       "      <td>01:37.8</td>\n",
       "      <td>215.086</td>\n",
       "    </tr>\n",
       "  </tbody>\n",
       "</table>\n",
       "</div>"
      ],
      "text/plain": [
       "   Pos  No          Driver                   Car  Lap Time of day     Time  \\\n",
       "0    1  55    Carlos Sainz               Ferrari   51    16:30:58  01:35.8   \n",
       "1    2   1  Max Verstappen  Red Bull Racing RBPT   30    15:55:33  01:37.5   \n",
       "2    3  63  George Russell              Mercedes   51    16:30:42  01:37.5   \n",
       "3    4  44  Lewis Hamilton              Mercedes   30    15:55:37  01:37.7   \n",
       "4    5  11    Sergio Perez  Red Bull Racing RBPT   45    16:20:19  01:37.8   \n",
       "\n",
       "   Avg Speed  \n",
       "0    219.575  \n",
       "1    215.724  \n",
       "2    215.598  \n",
       "3    215.333  \n",
       "4    215.086  "
      ]
     },
     "execution_count": 248,
     "metadata": {},
     "output_type": "execute_result"
    }
   ],
   "source": [
    "fl_france = pd.read_csv('data/fastest-lap/fl-france.csv')\n",
    "fl_france.head()"
   ]
  },
  {
   "cell_type": "code",
   "execution_count": 249,
   "metadata": {},
   "outputs": [
    {
     "name": "stdout",
     "output_type": "stream",
     "text": [
      "Adding data for FRANCE\n",
      "Commit mode is set to TRUE - data WILL be added to the fastest lap data frame!\n",
      "Data for FRANCE has been added!\n"
     ]
    }
   ],
   "source": [
    "addFastestLaps(fl_france, \"FRANCE\", fastest_lap, True)"
   ]
  },
  {
   "cell_type": "markdown",
   "metadata": {},
   "source": [
    "# Hungary"
   ]
  },
  {
   "cell_type": "code",
   "execution_count": 250,
   "metadata": {},
   "outputs": [
    {
     "data": {
      "text/html": [
       "<div>\n",
       "<style scoped>\n",
       "    .dataframe tbody tr th:only-of-type {\n",
       "        vertical-align: middle;\n",
       "    }\n",
       "\n",
       "    .dataframe tbody tr th {\n",
       "        vertical-align: top;\n",
       "    }\n",
       "\n",
       "    .dataframe thead th {\n",
       "        text-align: right;\n",
       "    }\n",
       "</style>\n",
       "<table border=\"1\" class=\"dataframe\">\n",
       "  <thead>\n",
       "    <tr style=\"text-align: right;\">\n",
       "      <th></th>\n",
       "      <th>Pos</th>\n",
       "      <th>No</th>\n",
       "      <th>Driver</th>\n",
       "      <th>Car</th>\n",
       "      <th>Lap</th>\n",
       "      <th>Time of day</th>\n",
       "      <th>Time</th>\n",
       "      <th>Avg Speed</th>\n",
       "    </tr>\n",
       "  </thead>\n",
       "  <tbody>\n",
       "    <tr>\n",
       "      <th>0</th>\n",
       "      <td>1</td>\n",
       "      <td>44</td>\n",
       "      <td>Lewis Hamilton</td>\n",
       "      <td>Mercedes</td>\n",
       "      <td>57</td>\n",
       "      <td>16:24:16</td>\n",
       "      <td>1:21.386</td>\n",
       "      <td>193.787</td>\n",
       "    </tr>\n",
       "    <tr>\n",
       "      <th>1</th>\n",
       "      <td>2</td>\n",
       "      <td>16</td>\n",
       "      <td>Charles Leclerc</td>\n",
       "      <td>Ferrari</td>\n",
       "      <td>57</td>\n",
       "      <td>16:24:32</td>\n",
       "      <td>1:21.622</td>\n",
       "      <td>193.227</td>\n",
       "    </tr>\n",
       "    <tr>\n",
       "      <th>2</th>\n",
       "      <td>3</td>\n",
       "      <td>11</td>\n",
       "      <td>Sergio Perez</td>\n",
       "      <td>Red Bull Racing RBPT</td>\n",
       "      <td>44</td>\n",
       "      <td>16:06:30</td>\n",
       "      <td>1:21.940</td>\n",
       "      <td>192.477</td>\n",
       "    </tr>\n",
       "    <tr>\n",
       "      <th>3</th>\n",
       "      <td>4</td>\n",
       "      <td>55</td>\n",
       "      <td>Carlos Sainz</td>\n",
       "      <td>Ferrari</td>\n",
       "      <td>51</td>\n",
       "      <td>16:15:54</td>\n",
       "      <td>1:22.000</td>\n",
       "      <td>192.336</td>\n",
       "    </tr>\n",
       "    <tr>\n",
       "      <th>4</th>\n",
       "      <td>5</td>\n",
       "      <td>24</td>\n",
       "      <td>Zhou Guanyu</td>\n",
       "      <td>Alfa Romeo Ferrari</td>\n",
       "      <td>58</td>\n",
       "      <td>16:27:27</td>\n",
       "      <td>1:22.029</td>\n",
       "      <td>192.268</td>\n",
       "    </tr>\n",
       "  </tbody>\n",
       "</table>\n",
       "</div>"
      ],
      "text/plain": [
       "   Pos  No           Driver                   Car  Lap Time of day      Time  \\\n",
       "0    1  44   Lewis Hamilton              Mercedes   57    16:24:16  1:21.386   \n",
       "1    2  16  Charles Leclerc               Ferrari   57    16:24:32  1:21.622   \n",
       "2    3  11     Sergio Perez  Red Bull Racing RBPT   44    16:06:30  1:21.940   \n",
       "3    4  55     Carlos Sainz               Ferrari   51    16:15:54  1:22.000   \n",
       "4    5  24      Zhou Guanyu    Alfa Romeo Ferrari   58    16:27:27  1:22.029   \n",
       "\n",
       "   Avg Speed  \n",
       "0    193.787  \n",
       "1    193.227  \n",
       "2    192.477  \n",
       "3    192.336  \n",
       "4    192.268  "
      ]
     },
     "execution_count": 250,
     "metadata": {},
     "output_type": "execute_result"
    }
   ],
   "source": [
    "fl_hungary = pd.read_csv('data/fastest-lap/fl-hungary.csv')\n",
    "fl_hungary.head()"
   ]
  },
  {
   "cell_type": "code",
   "execution_count": 251,
   "metadata": {},
   "outputs": [
    {
     "name": "stdout",
     "output_type": "stream",
     "text": [
      "Adding data for HUNGARY\n",
      "Commit mode is set to TRUE - data WILL be added to the fastest lap data frame!\n",
      "Data for HUNGARY has been added!\n"
     ]
    }
   ],
   "source": [
    "addFastestLaps(fl_hungary, \"HUNGARY\", fastest_lap, True)"
   ]
  },
  {
   "cell_type": "markdown",
   "metadata": {},
   "source": [
    "# Belguim"
   ]
  },
  {
   "cell_type": "code",
   "execution_count": 252,
   "metadata": {},
   "outputs": [
    {
     "data": {
      "text/html": [
       "<div>\n",
       "<style scoped>\n",
       "    .dataframe tbody tr th:only-of-type {\n",
       "        vertical-align: middle;\n",
       "    }\n",
       "\n",
       "    .dataframe tbody tr th {\n",
       "        vertical-align: top;\n",
       "    }\n",
       "\n",
       "    .dataframe thead th {\n",
       "        text-align: right;\n",
       "    }\n",
       "</style>\n",
       "<table border=\"1\" class=\"dataframe\">\n",
       "  <thead>\n",
       "    <tr style=\"text-align: right;\">\n",
       "      <th></th>\n",
       "      <th>Pos</th>\n",
       "      <th>No</th>\n",
       "      <th>Driver</th>\n",
       "      <th>Car</th>\n",
       "      <th>Lap</th>\n",
       "      <th>Time of day</th>\n",
       "      <th>Time</th>\n",
       "      <th>Avg Speed</th>\n",
       "    </tr>\n",
       "  </thead>\n",
       "  <tbody>\n",
       "    <tr>\n",
       "      <th>0</th>\n",
       "      <td>1</td>\n",
       "      <td>1</td>\n",
       "      <td>Max Verstappen</td>\n",
       "      <td>Red Bull Racing RBPT</td>\n",
       "      <td>32</td>\n",
       "      <td>16:07:14</td>\n",
       "      <td>1:49.354</td>\n",
       "      <td>230.575</td>\n",
       "    </tr>\n",
       "    <tr>\n",
       "      <th>1</th>\n",
       "      <td>2</td>\n",
       "      <td>16</td>\n",
       "      <td>Charles Leclerc</td>\n",
       "      <td>Ferrari</td>\n",
       "      <td>44</td>\n",
       "      <td>16:30:47</td>\n",
       "      <td>1:49.984</td>\n",
       "      <td>229.255</td>\n",
       "    </tr>\n",
       "    <tr>\n",
       "      <th>2</th>\n",
       "      <td>3</td>\n",
       "      <td>11</td>\n",
       "      <td>Sergio Perez</td>\n",
       "      <td>Red Bull Racing RBPT</td>\n",
       "      <td>29</td>\n",
       "      <td>16:01:51</td>\n",
       "      <td>1:50.764</td>\n",
       "      <td>227.640</td>\n",
       "    </tr>\n",
       "    <tr>\n",
       "      <th>3</th>\n",
       "      <td>4</td>\n",
       "      <td>63</td>\n",
       "      <td>George Russell</td>\n",
       "      <td>Mercedes</td>\n",
       "      <td>31</td>\n",
       "      <td>16:05:48</td>\n",
       "      <td>1:50.793</td>\n",
       "      <td>227.581</td>\n",
       "    </tr>\n",
       "    <tr>\n",
       "      <th>4</th>\n",
       "      <td>5</td>\n",
       "      <td>4</td>\n",
       "      <td>Lando Norris</td>\n",
       "      <td>McLaren Mercedes</td>\n",
       "      <td>31</td>\n",
       "      <td>16:06:37</td>\n",
       "      <td>1:51.678</td>\n",
       "      <td>225.777</td>\n",
       "    </tr>\n",
       "  </tbody>\n",
       "</table>\n",
       "</div>"
      ],
      "text/plain": [
       "   Pos  No           Driver                   Car  Lap Time of day      Time  \\\n",
       "0    1   1   Max Verstappen  Red Bull Racing RBPT   32    16:07:14  1:49.354   \n",
       "1    2  16  Charles Leclerc               Ferrari   44    16:30:47  1:49.984   \n",
       "2    3  11     Sergio Perez  Red Bull Racing RBPT   29    16:01:51  1:50.764   \n",
       "3    4  63   George Russell              Mercedes   31    16:05:48  1:50.793   \n",
       "4    5   4     Lando Norris      McLaren Mercedes   31    16:06:37  1:51.678   \n",
       "\n",
       "   Avg Speed  \n",
       "0    230.575  \n",
       "1    229.255  \n",
       "2    227.640  \n",
       "3    227.581  \n",
       "4    225.777  "
      ]
     },
     "execution_count": 252,
     "metadata": {},
     "output_type": "execute_result"
    }
   ],
   "source": [
    "fl_belguim = pd.read_csv('data/fastest-lap/fl-belguim.csv')\n",
    "fl_belguim.head()"
   ]
  },
  {
   "cell_type": "code",
   "execution_count": 253,
   "metadata": {},
   "outputs": [
    {
     "name": "stdout",
     "output_type": "stream",
     "text": [
      "Adding data for BELGUIM\n",
      "Commit mode is set to TRUE - data WILL be added to the fastest lap data frame!\n",
      "Data for BELGUIM has been added!\n"
     ]
    }
   ],
   "source": [
    "addFastestLaps(fl_belguim, \"BELGUIM\", fastest_lap, True)"
   ]
  },
  {
   "cell_type": "markdown",
   "metadata": {},
   "source": [
    "# Netherlands"
   ]
  },
  {
   "cell_type": "code",
   "execution_count": 254,
   "metadata": {},
   "outputs": [
    {
     "data": {
      "text/html": [
       "<div>\n",
       "<style scoped>\n",
       "    .dataframe tbody tr th:only-of-type {\n",
       "        vertical-align: middle;\n",
       "    }\n",
       "\n",
       "    .dataframe tbody tr th {\n",
       "        vertical-align: top;\n",
       "    }\n",
       "\n",
       "    .dataframe thead th {\n",
       "        text-align: right;\n",
       "    }\n",
       "</style>\n",
       "<table border=\"1\" class=\"dataframe\">\n",
       "  <thead>\n",
       "    <tr style=\"text-align: right;\">\n",
       "      <th></th>\n",
       "      <th>Pos</th>\n",
       "      <th>No</th>\n",
       "      <th>Driver</th>\n",
       "      <th>Car</th>\n",
       "      <th>Lap</th>\n",
       "      <th>Time of day</th>\n",
       "      <th>Time</th>\n",
       "      <th>Avg Speed</th>\n",
       "    </tr>\n",
       "  </thead>\n",
       "  <tbody>\n",
       "    <tr>\n",
       "      <th>0</th>\n",
       "      <td>1</td>\n",
       "      <td>1</td>\n",
       "      <td>Max Verstappen</td>\n",
       "      <td>Red Bull Racing RBPT</td>\n",
       "      <td>62</td>\n",
       "      <td>16:27:18</td>\n",
       "      <td>1:13.652</td>\n",
       "      <td>208.173</td>\n",
       "    </tr>\n",
       "    <tr>\n",
       "      <th>1</th>\n",
       "      <td>2</td>\n",
       "      <td>63</td>\n",
       "      <td>George Russell</td>\n",
       "      <td>Mercedes</td>\n",
       "      <td>72</td>\n",
       "      <td>16:39:43</td>\n",
       "      <td>1:13.671</td>\n",
       "      <td>208.119</td>\n",
       "    </tr>\n",
       "    <tr>\n",
       "      <th>2</th>\n",
       "      <td>3</td>\n",
       "      <td>44</td>\n",
       "      <td>Lewis Hamilton</td>\n",
       "      <td>Mercedes</td>\n",
       "      <td>54</td>\n",
       "      <td>16:13:20</td>\n",
       "      <td>1:13.854</td>\n",
       "      <td>207.604</td>\n",
       "    </tr>\n",
       "    <tr>\n",
       "      <th>3</th>\n",
       "      <td>4</td>\n",
       "      <td>14</td>\n",
       "      <td>Fernando Alonso</td>\n",
       "      <td>Alpine Renault</td>\n",
       "      <td>51</td>\n",
       "      <td>16:10:16</td>\n",
       "      <td>1:14.144</td>\n",
       "      <td>206.792</td>\n",
       "    </tr>\n",
       "    <tr>\n",
       "      <th>4</th>\n",
       "      <td>5</td>\n",
       "      <td>11</td>\n",
       "      <td>Sergio Perez</td>\n",
       "      <td>Red Bull Racing RBPT</td>\n",
       "      <td>63</td>\n",
       "      <td>16:28:38</td>\n",
       "      <td>1:14.404</td>\n",
       "      <td>206.069</td>\n",
       "    </tr>\n",
       "  </tbody>\n",
       "</table>\n",
       "</div>"
      ],
      "text/plain": [
       "   Pos  No           Driver                   Car  Lap Time of day      Time  \\\n",
       "0    1   1   Max Verstappen  Red Bull Racing RBPT   62    16:27:18  1:13.652   \n",
       "1    2  63   George Russell              Mercedes   72    16:39:43  1:13.671   \n",
       "2    3  44   Lewis Hamilton              Mercedes   54    16:13:20  1:13.854   \n",
       "3    4  14  Fernando Alonso        Alpine Renault   51    16:10:16  1:14.144   \n",
       "4    5  11     Sergio Perez  Red Bull Racing RBPT   63    16:28:38  1:14.404   \n",
       "\n",
       "   Avg Speed  \n",
       "0    208.173  \n",
       "1    208.119  \n",
       "2    207.604  \n",
       "3    206.792  \n",
       "4    206.069  "
      ]
     },
     "execution_count": 254,
     "metadata": {},
     "output_type": "execute_result"
    }
   ],
   "source": [
    "fl_netherlands = pd.read_csv('data/fastest-lap/fl-netherlands.csv')\n",
    "fl_netherlands.head()"
   ]
  },
  {
   "cell_type": "code",
   "execution_count": 255,
   "metadata": {},
   "outputs": [
    {
     "name": "stdout",
     "output_type": "stream",
     "text": [
      "Adding data for NETHERLANDS\n",
      "Commit mode is set to TRUE - data WILL be added to the fastest lap data frame!\n",
      "Data for NETHERLANDS has been added!\n"
     ]
    }
   ],
   "source": [
    "addFastestLaps(fl_netherlands, \"NETHERLANDS\", fastest_lap, True)"
   ]
  },
  {
   "cell_type": "markdown",
   "metadata": {},
   "source": [
    "# Italy 2"
   ]
  },
  {
   "cell_type": "code",
   "execution_count": 256,
   "metadata": {},
   "outputs": [
    {
     "data": {
      "text/html": [
       "<div>\n",
       "<style scoped>\n",
       "    .dataframe tbody tr th:only-of-type {\n",
       "        vertical-align: middle;\n",
       "    }\n",
       "\n",
       "    .dataframe tbody tr th {\n",
       "        vertical-align: top;\n",
       "    }\n",
       "\n",
       "    .dataframe thead th {\n",
       "        text-align: right;\n",
       "    }\n",
       "</style>\n",
       "<table border=\"1\" class=\"dataframe\">\n",
       "  <thead>\n",
       "    <tr style=\"text-align: right;\">\n",
       "      <th></th>\n",
       "      <th>Pos</th>\n",
       "      <th>No</th>\n",
       "      <th>Driver</th>\n",
       "      <th>Car</th>\n",
       "      <th>Lap</th>\n",
       "      <th>Time of day</th>\n",
       "      <th>Time</th>\n",
       "      <th>Avg Speed</th>\n",
       "    </tr>\n",
       "  </thead>\n",
       "  <tbody>\n",
       "    <tr>\n",
       "      <th>0</th>\n",
       "      <td>1</td>\n",
       "      <td>11</td>\n",
       "      <td>Sergio Perez</td>\n",
       "      <td>Red Bull Racing RBPT</td>\n",
       "      <td>46</td>\n",
       "      <td>16:11:02</td>\n",
       "      <td>1:24.030</td>\n",
       "      <td>248.182</td>\n",
       "    </tr>\n",
       "    <tr>\n",
       "      <th>1</th>\n",
       "      <td>2</td>\n",
       "      <td>16</td>\n",
       "      <td>Charles Leclerc</td>\n",
       "      <td>Ferrari</td>\n",
       "      <td>38</td>\n",
       "      <td>15:58:50</td>\n",
       "      <td>1:24.336</td>\n",
       "      <td>247.282</td>\n",
       "    </tr>\n",
       "    <tr>\n",
       "      <th>2</th>\n",
       "      <td>3</td>\n",
       "      <td>44</td>\n",
       "      <td>Lewis Hamilton</td>\n",
       "      <td>Mercedes</td>\n",
       "      <td>43</td>\n",
       "      <td>16:06:39</td>\n",
       "      <td>1:24.434</td>\n",
       "      <td>246.995</td>\n",
       "    </tr>\n",
       "    <tr>\n",
       "      <th>3</th>\n",
       "      <td>4</td>\n",
       "      <td>55</td>\n",
       "      <td>Carlos Sainz</td>\n",
       "      <td>Ferrari</td>\n",
       "      <td>41</td>\n",
       "      <td>16:03:26</td>\n",
       "      <td>1:24.446</td>\n",
       "      <td>246.960</td>\n",
       "    </tr>\n",
       "    <tr>\n",
       "      <th>4</th>\n",
       "      <td>5</td>\n",
       "      <td>4</td>\n",
       "      <td>Lando Norris</td>\n",
       "      <td>McLaren Mercedes</td>\n",
       "      <td>43</td>\n",
       "      <td>16:06:44</td>\n",
       "      <td>1:24.718</td>\n",
       "      <td>246.167</td>\n",
       "    </tr>\n",
       "  </tbody>\n",
       "</table>\n",
       "</div>"
      ],
      "text/plain": [
       "   Pos  No           Driver                   Car  Lap Time of day      Time  \\\n",
       "0    1  11     Sergio Perez  Red Bull Racing RBPT   46    16:11:02  1:24.030   \n",
       "1    2  16  Charles Leclerc               Ferrari   38    15:58:50  1:24.336   \n",
       "2    3  44   Lewis Hamilton              Mercedes   43    16:06:39  1:24.434   \n",
       "3    4  55     Carlos Sainz               Ferrari   41    16:03:26  1:24.446   \n",
       "4    5   4     Lando Norris      McLaren Mercedes   43    16:06:44  1:24.718   \n",
       "\n",
       "   Avg Speed  \n",
       "0    248.182  \n",
       "1    247.282  \n",
       "2    246.995  \n",
       "3    246.960  \n",
       "4    246.167  "
      ]
     },
     "execution_count": 256,
     "metadata": {},
     "output_type": "execute_result"
    }
   ],
   "source": [
    "fl_italy2 = pd.read_csv('data/fastest-lap/fl-italy2.csv')\n",
    "fl_italy2.head()"
   ]
  },
  {
   "cell_type": "code",
   "execution_count": 257,
   "metadata": {},
   "outputs": [
    {
     "name": "stdout",
     "output_type": "stream",
     "text": [
      "Adding data for ITALY2\n",
      "Commit mode is set to TRUE - data WILL be added to the fastest lap data frame!\n",
      "Data for ITALY2 has been added!\n"
     ]
    }
   ],
   "source": [
    "addFastestLaps(fl_italy2, \"ITALY2\", fastest_lap, True)"
   ]
  },
  {
   "cell_type": "markdown",
   "metadata": {},
   "source": [
    "# Singapore"
   ]
  },
  {
   "cell_type": "code",
   "execution_count": 258,
   "metadata": {},
   "outputs": [
    {
     "data": {
      "text/html": [
       "<div>\n",
       "<style scoped>\n",
       "    .dataframe tbody tr th:only-of-type {\n",
       "        vertical-align: middle;\n",
       "    }\n",
       "\n",
       "    .dataframe tbody tr th {\n",
       "        vertical-align: top;\n",
       "    }\n",
       "\n",
       "    .dataframe thead th {\n",
       "        text-align: right;\n",
       "    }\n",
       "</style>\n",
       "<table border=\"1\" class=\"dataframe\">\n",
       "  <thead>\n",
       "    <tr style=\"text-align: right;\">\n",
       "      <th></th>\n",
       "      <th>Pos</th>\n",
       "      <th>No</th>\n",
       "      <th>Driver</th>\n",
       "      <th>Car</th>\n",
       "      <th>Lap</th>\n",
       "      <th>Time of day</th>\n",
       "      <th>Time</th>\n",
       "      <th>Avg Speed</th>\n",
       "    </tr>\n",
       "  </thead>\n",
       "  <tbody>\n",
       "    <tr>\n",
       "      <th>0</th>\n",
       "      <td>1</td>\n",
       "      <td>63</td>\n",
       "      <td>George Russell</td>\n",
       "      <td>Mercedes</td>\n",
       "      <td>54</td>\n",
       "      <td>23:05:33</td>\n",
       "      <td>1:46.458</td>\n",
       "      <td>171.211</td>\n",
       "    </tr>\n",
       "    <tr>\n",
       "      <th>1</th>\n",
       "      <td>2</td>\n",
       "      <td>11</td>\n",
       "      <td>Sergio Perez</td>\n",
       "      <td>Red Bull Racing RBPT</td>\n",
       "      <td>57</td>\n",
       "      <td>23:07:32</td>\n",
       "      <td>1:48.165</td>\n",
       "      <td>168.509</td>\n",
       "    </tr>\n",
       "    <tr>\n",
       "      <th>2</th>\n",
       "      <td>3</td>\n",
       "      <td>55</td>\n",
       "      <td>Carlos Sainz</td>\n",
       "      <td>Ferrari</td>\n",
       "      <td>59</td>\n",
       "      <td>23:11:26</td>\n",
       "      <td>1:48.414</td>\n",
       "      <td>168.122</td>\n",
       "    </tr>\n",
       "    <tr>\n",
       "      <th>3</th>\n",
       "      <td>4</td>\n",
       "      <td>16</td>\n",
       "      <td>Charles Leclerc</td>\n",
       "      <td>Ferrari</td>\n",
       "      <td>54</td>\n",
       "      <td>23:02:11</td>\n",
       "      <td>1:48.753</td>\n",
       "      <td>167.598</td>\n",
       "    </tr>\n",
       "    <tr>\n",
       "      <th>4</th>\n",
       "      <td>5</td>\n",
       "      <td>1</td>\n",
       "      <td>Max Verstappen</td>\n",
       "      <td>Red Bull Racing RBPT</td>\n",
       "      <td>52</td>\n",
       "      <td>22:59:20</td>\n",
       "      <td>1:49.142</td>\n",
       "      <td>167.000</td>\n",
       "    </tr>\n",
       "  </tbody>\n",
       "</table>\n",
       "</div>"
      ],
      "text/plain": [
       "   Pos  No           Driver                   Car  Lap Time of day      Time  \\\n",
       "0    1  63   George Russell              Mercedes   54    23:05:33  1:46.458   \n",
       "1    2  11     Sergio Perez  Red Bull Racing RBPT   57    23:07:32  1:48.165   \n",
       "2    3  55     Carlos Sainz               Ferrari   59    23:11:26  1:48.414   \n",
       "3    4  16  Charles Leclerc               Ferrari   54    23:02:11  1:48.753   \n",
       "4    5   1   Max Verstappen  Red Bull Racing RBPT   52    22:59:20  1:49.142   \n",
       "\n",
       "   Avg Speed  \n",
       "0    171.211  \n",
       "1    168.509  \n",
       "2    168.122  \n",
       "3    167.598  \n",
       "4    167.000  "
      ]
     },
     "execution_count": 258,
     "metadata": {},
     "output_type": "execute_result"
    }
   ],
   "source": [
    "fl_singapore = pd.read_csv('data/fastest-lap/fl-singapore.csv')\n",
    "fl_singapore.head()"
   ]
  },
  {
   "cell_type": "code",
   "execution_count": 259,
   "metadata": {},
   "outputs": [
    {
     "name": "stdout",
     "output_type": "stream",
     "text": [
      "Adding data for SINGAPORE\n",
      "Commit mode is set to TRUE - data WILL be added to the fastest lap data frame!\n",
      "Data for SINGAPORE has been added!\n"
     ]
    }
   ],
   "source": [
    "addFastestLaps(fl_singapore, \"SINGAPORE\", fastest_lap, True)"
   ]
  },
  {
   "cell_type": "markdown",
   "metadata": {},
   "source": [
    "# Japan"
   ]
  },
  {
   "cell_type": "code",
   "execution_count": 260,
   "metadata": {},
   "outputs": [
    {
     "data": {
      "text/html": [
       "<div>\n",
       "<style scoped>\n",
       "    .dataframe tbody tr th:only-of-type {\n",
       "        vertical-align: middle;\n",
       "    }\n",
       "\n",
       "    .dataframe tbody tr th {\n",
       "        vertical-align: top;\n",
       "    }\n",
       "\n",
       "    .dataframe thead th {\n",
       "        text-align: right;\n",
       "    }\n",
       "</style>\n",
       "<table border=\"1\" class=\"dataframe\">\n",
       "  <thead>\n",
       "    <tr style=\"text-align: right;\">\n",
       "      <th></th>\n",
       "      <th>Pos</th>\n",
       "      <th>No</th>\n",
       "      <th>Driver</th>\n",
       "      <th>Car</th>\n",
       "      <th>Lap</th>\n",
       "      <th>Time of day</th>\n",
       "      <th>Time</th>\n",
       "      <th>Avg Speed</th>\n",
       "    </tr>\n",
       "  </thead>\n",
       "  <tbody>\n",
       "    <tr>\n",
       "      <th>0</th>\n",
       "      <td>1</td>\n",
       "      <td>24</td>\n",
       "      <td>Zhou Guanyu</td>\n",
       "      <td>Alfa Romeo Ferrari</td>\n",
       "      <td>20</td>\n",
       "      <td>16:52:17</td>\n",
       "      <td>1:44.411</td>\n",
       "      <td>200.220</td>\n",
       "    </tr>\n",
       "    <tr>\n",
       "      <th>1</th>\n",
       "      <td>2</td>\n",
       "      <td>14</td>\n",
       "      <td>Fernando Alonso</td>\n",
       "      <td>Alpine Renault</td>\n",
       "      <td>25</td>\n",
       "      <td>17:00:46</td>\n",
       "      <td>1:44.412</td>\n",
       "      <td>200.218</td>\n",
       "    </tr>\n",
       "    <tr>\n",
       "      <th>2</th>\n",
       "      <td>3</td>\n",
       "      <td>16</td>\n",
       "      <td>Charles Leclerc</td>\n",
       "      <td>Ferrari</td>\n",
       "      <td>10</td>\n",
       "      <td>16:33:12</td>\n",
       "      <td>1:44.489</td>\n",
       "      <td>200.070</td>\n",
       "    </tr>\n",
       "    <tr>\n",
       "      <th>3</th>\n",
       "      <td>4</td>\n",
       "      <td>1</td>\n",
       "      <td>Max Verstappen</td>\n",
       "      <td>Red Bull Racing RBPT</td>\n",
       "      <td>10</td>\n",
       "      <td>16:33:08</td>\n",
       "      <td>1:44.911</td>\n",
       "      <td>199.266</td>\n",
       "    </tr>\n",
       "    <tr>\n",
       "      <th>4</th>\n",
       "      <td>5</td>\n",
       "      <td>18</td>\n",
       "      <td>Lance Stroll</td>\n",
       "      <td>Aston Martin Aramco Mercedes</td>\n",
       "      <td>21</td>\n",
       "      <td>16:53:56</td>\n",
       "      <td>1:45.205</td>\n",
       "      <td>198.709</td>\n",
       "    </tr>\n",
       "  </tbody>\n",
       "</table>\n",
       "</div>"
      ],
      "text/plain": [
       "   Pos  No           Driver                           Car  Lap Time of day  \\\n",
       "0    1  24      Zhou Guanyu            Alfa Romeo Ferrari   20    16:52:17   \n",
       "1    2  14  Fernando Alonso                Alpine Renault   25    17:00:46   \n",
       "2    3  16  Charles Leclerc                       Ferrari   10    16:33:12   \n",
       "3    4   1   Max Verstappen          Red Bull Racing RBPT   10    16:33:08   \n",
       "4    5  18     Lance Stroll  Aston Martin Aramco Mercedes   21    16:53:56   \n",
       "\n",
       "       Time  Avg Speed  \n",
       "0  1:44.411    200.220  \n",
       "1  1:44.412    200.218  \n",
       "2  1:44.489    200.070  \n",
       "3  1:44.911    199.266  \n",
       "4  1:45.205    198.709  "
      ]
     },
     "execution_count": 260,
     "metadata": {},
     "output_type": "execute_result"
    }
   ],
   "source": [
    "fl_japan = pd.read_csv('data/fastest-lap/fl-japan.csv')\n",
    "fl_japan.head()"
   ]
  },
  {
   "cell_type": "code",
   "execution_count": 261,
   "metadata": {},
   "outputs": [
    {
     "name": "stdout",
     "output_type": "stream",
     "text": [
      "Adding data for JAPAN\n",
      "Commit mode is set to TRUE - data WILL be added to the fastest lap data frame!\n",
      "Data for JAPAN has been added!\n"
     ]
    }
   ],
   "source": [
    "addFastestLaps(fl_japan, \"JAPAN\", fastest_lap, True)"
   ]
  },
  {
   "cell_type": "markdown",
   "metadata": {},
   "source": [
    "# USA"
   ]
  },
  {
   "cell_type": "code",
   "execution_count": 262,
   "metadata": {},
   "outputs": [
    {
     "data": {
      "text/html": [
       "<div>\n",
       "<style scoped>\n",
       "    .dataframe tbody tr th:only-of-type {\n",
       "        vertical-align: middle;\n",
       "    }\n",
       "\n",
       "    .dataframe tbody tr th {\n",
       "        vertical-align: top;\n",
       "    }\n",
       "\n",
       "    .dataframe thead th {\n",
       "        text-align: right;\n",
       "    }\n",
       "</style>\n",
       "<table border=\"1\" class=\"dataframe\">\n",
       "  <thead>\n",
       "    <tr style=\"text-align: right;\">\n",
       "      <th></th>\n",
       "      <th>Pos</th>\n",
       "      <th>No</th>\n",
       "      <th>Driver</th>\n",
       "      <th>Car</th>\n",
       "      <th>Lap</th>\n",
       "      <th>Time of day</th>\n",
       "      <th>Time</th>\n",
       "      <th>Avg Speed</th>\n",
       "    </tr>\n",
       "  </thead>\n",
       "  <tbody>\n",
       "    <tr>\n",
       "      <th>0</th>\n",
       "      <td>1</td>\n",
       "      <td>63</td>\n",
       "      <td>George Russell</td>\n",
       "      <td>Mercedes</td>\n",
       "      <td>56</td>\n",
       "      <td>15:46:36</td>\n",
       "      <td>1:38.788</td>\n",
       "      <td>200.902</td>\n",
       "    </tr>\n",
       "    <tr>\n",
       "      <th>1</th>\n",
       "      <td>2</td>\n",
       "      <td>1</td>\n",
       "      <td>Max Verstappen</td>\n",
       "      <td>Red Bull Racing RBPT</td>\n",
       "      <td>37</td>\n",
       "      <td>15:14:07</td>\n",
       "      <td>1:39.541</td>\n",
       "      <td>199.383</td>\n",
       "    </tr>\n",
       "    <tr>\n",
       "      <th>2</th>\n",
       "      <td>3</td>\n",
       "      <td>11</td>\n",
       "      <td>Sergio Perez</td>\n",
       "      <td>Red Bull Racing RBPT</td>\n",
       "      <td>44</td>\n",
       "      <td>15:25:54</td>\n",
       "      <td>1:39.563</td>\n",
       "      <td>199.339</td>\n",
       "    </tr>\n",
       "    <tr>\n",
       "      <th>3</th>\n",
       "      <td>4</td>\n",
       "      <td>16</td>\n",
       "      <td>Charles Leclerc</td>\n",
       "      <td>Ferrari</td>\n",
       "      <td>37</td>\n",
       "      <td>15:14:06</td>\n",
       "      <td>1:39.731</td>\n",
       "      <td>199.003</td>\n",
       "    </tr>\n",
       "    <tr>\n",
       "      <th>4</th>\n",
       "      <td>5</td>\n",
       "      <td>44</td>\n",
       "      <td>Lewis Hamilton</td>\n",
       "      <td>Mercedes</td>\n",
       "      <td>45</td>\n",
       "      <td>15:27:25</td>\n",
       "      <td>1:39.830</td>\n",
       "      <td>198.805</td>\n",
       "    </tr>\n",
       "  </tbody>\n",
       "</table>\n",
       "</div>"
      ],
      "text/plain": [
       "   Pos  No           Driver                   Car  Lap Time of day      Time  \\\n",
       "0    1  63   George Russell              Mercedes   56    15:46:36  1:38.788   \n",
       "1    2   1   Max Verstappen  Red Bull Racing RBPT   37    15:14:07  1:39.541   \n",
       "2    3  11     Sergio Perez  Red Bull Racing RBPT   44    15:25:54  1:39.563   \n",
       "3    4  16  Charles Leclerc               Ferrari   37    15:14:06  1:39.731   \n",
       "4    5  44   Lewis Hamilton              Mercedes   45    15:27:25  1:39.830   \n",
       "\n",
       "   Avg Speed  \n",
       "0    200.902  \n",
       "1    199.383  \n",
       "2    199.339  \n",
       "3    199.003  \n",
       "4    198.805  "
      ]
     },
     "execution_count": 262,
     "metadata": {},
     "output_type": "execute_result"
    }
   ],
   "source": [
    "fl_usa = pd.read_csv('data/fastest-lap/fl-usa.csv')\n",
    "fl_usa.head()"
   ]
  },
  {
   "cell_type": "code",
   "execution_count": 263,
   "metadata": {},
   "outputs": [
    {
     "name": "stdout",
     "output_type": "stream",
     "text": [
      "Adding data for USA\n",
      "Commit mode is set to TRUE - data WILL be added to the fastest lap data frame!\n",
      "Data for USA has been added!\n"
     ]
    }
   ],
   "source": [
    "addFastestLaps(fl_usa, \"USA\", fastest_lap, True)"
   ]
  },
  {
   "cell_type": "markdown",
   "metadata": {},
   "source": [
    "# Mexico"
   ]
  },
  {
   "cell_type": "code",
   "execution_count": 264,
   "metadata": {},
   "outputs": [
    {
     "data": {
      "text/html": [
       "<div>\n",
       "<style scoped>\n",
       "    .dataframe tbody tr th:only-of-type {\n",
       "        vertical-align: middle;\n",
       "    }\n",
       "\n",
       "    .dataframe tbody tr th {\n",
       "        vertical-align: top;\n",
       "    }\n",
       "\n",
       "    .dataframe thead th {\n",
       "        text-align: right;\n",
       "    }\n",
       "</style>\n",
       "<table border=\"1\" class=\"dataframe\">\n",
       "  <thead>\n",
       "    <tr style=\"text-align: right;\">\n",
       "      <th></th>\n",
       "      <th>Pos</th>\n",
       "      <th>No</th>\n",
       "      <th>Driver</th>\n",
       "      <th>Car</th>\n",
       "      <th>Lap</th>\n",
       "      <th>Time of day</th>\n",
       "      <th>Time</th>\n",
       "      <th>Avg Speed</th>\n",
       "    </tr>\n",
       "  </thead>\n",
       "  <tbody>\n",
       "    <tr>\n",
       "      <th>0</th>\n",
       "      <td>1</td>\n",
       "      <td>63</td>\n",
       "      <td>George Russell</td>\n",
       "      <td>Mercedes</td>\n",
       "      <td>71</td>\n",
       "      <td>15:42:32</td>\n",
       "      <td>1:20.153</td>\n",
       "      <td>193.310</td>\n",
       "    </tr>\n",
       "    <tr>\n",
       "      <th>1</th>\n",
       "      <td>2</td>\n",
       "      <td>11</td>\n",
       "      <td>Sergio Perez</td>\n",
       "      <td>Red Bull Racing RBPT</td>\n",
       "      <td>30</td>\n",
       "      <td>14:45:14</td>\n",
       "      <td>1:21.775</td>\n",
       "      <td>189.476</td>\n",
       "    </tr>\n",
       "    <tr>\n",
       "      <th>2</th>\n",
       "      <td>3</td>\n",
       "      <td>3</td>\n",
       "      <td>Daniel Ricciardo</td>\n",
       "      <td>McLaren Mercedes</td>\n",
       "      <td>48</td>\n",
       "      <td>15:11:17</td>\n",
       "      <td>1:22.022</td>\n",
       "      <td>188.905</td>\n",
       "    </tr>\n",
       "    <tr>\n",
       "      <th>3</th>\n",
       "      <td>4</td>\n",
       "      <td>1</td>\n",
       "      <td>Max Verstappen</td>\n",
       "      <td>Red Bull Racing RBPT</td>\n",
       "      <td>36</td>\n",
       "      <td>14:53:18</td>\n",
       "      <td>1:22.046</td>\n",
       "      <td>188.850</td>\n",
       "    </tr>\n",
       "    <tr>\n",
       "      <th>4</th>\n",
       "      <td>5</td>\n",
       "      <td>44</td>\n",
       "      <td>Lewis Hamilton</td>\n",
       "      <td>Mercedes</td>\n",
       "      <td>32</td>\n",
       "      <td>14:47:56</td>\n",
       "      <td>1:22.062</td>\n",
       "      <td>188.813</td>\n",
       "    </tr>\n",
       "  </tbody>\n",
       "</table>\n",
       "</div>"
      ],
      "text/plain": [
       "   Pos  No            Driver                   Car  Lap Time of day      Time  \\\n",
       "0    1  63    George Russell              Mercedes   71    15:42:32  1:20.153   \n",
       "1    2  11      Sergio Perez  Red Bull Racing RBPT   30    14:45:14  1:21.775   \n",
       "2    3   3  Daniel Ricciardo      McLaren Mercedes   48    15:11:17  1:22.022   \n",
       "3    4   1    Max Verstappen  Red Bull Racing RBPT   36    14:53:18  1:22.046   \n",
       "4    5  44    Lewis Hamilton              Mercedes   32    14:47:56  1:22.062   \n",
       "\n",
       "   Avg Speed  \n",
       "0    193.310  \n",
       "1    189.476  \n",
       "2    188.905  \n",
       "3    188.850  \n",
       "4    188.813  "
      ]
     },
     "execution_count": 264,
     "metadata": {},
     "output_type": "execute_result"
    }
   ],
   "source": [
    "fl_mexico = pd.read_csv('data/fastest-lap/fl-mexico.csv')\n",
    "fl_mexico.head()"
   ]
  },
  {
   "cell_type": "code",
   "execution_count": 265,
   "metadata": {},
   "outputs": [
    {
     "name": "stdout",
     "output_type": "stream",
     "text": [
      "Adding data for MEXICO\n",
      "Commit mode is set to TRUE - data WILL be added to the fastest lap data frame!\n",
      "Data for MEXICO has been added!\n"
     ]
    }
   ],
   "source": [
    "addFastestLaps(fl_mexico, \"MEXICO\", fastest_lap, True)"
   ]
  },
  {
   "cell_type": "markdown",
   "metadata": {},
   "source": [
    "# Plotting Work"
   ]
  },
  {
   "cell_type": "code",
   "execution_count": 266,
   "metadata": {},
   "outputs": [
    {
     "data": {
      "text/plain": [
       "<AxesSubplot: title={'center': 'Max Verstappen'}, xlabel='RACE'>"
      ]
     },
     "execution_count": 266,
     "metadata": {},
     "output_type": "execute_result"
    },
    {
     "data": {
      "image/png": "[encoded data removed]",
      "text/plain": [
       "<Figure size 640x480 with 1 Axes>"
      ]
     },
     "metadata": {},
     "output_type": "display_data"
    }
   ],
   "source": [
    "#avg speed\n",
    "fastest_lap.loc[fastest_lap['DRIVER'] == 'Max Verstappen'].plot.line(x='RACE', y='FL', title='Max Verstappen')"
   ]
  },
  {
   "cell_type": "code",
   "execution_count": 267,
   "metadata": {},
   "outputs": [
    {
     "data": {
      "text/plain": [
       "386   0 days 00:01:35.400000\n",
       "366   0 days 00:01:31.800000\n",
       "344   0 days 00:01:21.700000\n",
       "330   0 days 00:01:18.400000\n",
       "311   0 days 00:01:31.400000\n",
       "288   0 days 00:01:25.500000\n",
       "267   0 days 00:01:16.100000\n",
       "250   0 days 00:01:46.100000\n",
       "230   0 days 00:01:15.800000\n",
       "204   0 days 00:01:32.400000\n",
       "194   0 days 00:01:07.300000\n",
       "173   0 days 00:01:37.500000\n",
       "149   0 days 00:01:22.100000\n",
       "134   0 days 00:01:49.300000\n",
       "116   0 days 00:01:13.600000\n",
       "91    0 days 00:01:24.700000\n",
       "72    0 days 00:01:49.100000\n",
       "53    0 days 00:01:44.900000\n",
       "37    0 days 00:01:39.500000\n",
       "16           0 days 00:01:22\n",
       "Name: FL, dtype: timedelta64[ns]"
      ]
     },
     "execution_count": 267,
     "metadata": {},
     "output_type": "execute_result"
    }
   ],
   "source": [
    "fastest_lap.loc[fastest_lap['DRIVER'] == 'Max Verstappen']['FL']"
   ]
  },
  {
   "cell_type": "markdown",
   "metadata": {},
   "source": [
    "# Experiment to convert TimeDelta to seconds"
   ]
  },
  {
   "cell_type": "code",
   "execution_count": 268,
   "metadata": {},
   "outputs": [],
   "source": [
    "test_df = fastest_lap.loc[fastest_lap['DRIVER'] == 'Max Verstappen']['FL']"
   ]
  },
  {
   "cell_type": "code",
   "execution_count": 269,
   "metadata": {},
   "outputs": [
    {
     "data": {
      "text/plain": [
       "386   0 days 00:01:35.400000\n",
       "366   0 days 00:01:31.800000\n",
       "344   0 days 00:01:21.700000\n",
       "330   0 days 00:01:18.400000\n",
       "311   0 days 00:01:31.400000\n",
       "Name: FL, dtype: timedelta64[ns]"
      ]
     },
     "execution_count": 269,
     "metadata": {},
     "output_type": "execute_result"
    }
   ],
   "source": [
    "test_df.head()"
   ]
  },
  {
   "cell_type": "code",
   "execution_count": 270,
   "metadata": {},
   "outputs": [
    {
     "name": "stdout",
     "output_type": "stream",
     "text": [
      "<class 'pandas.core.series.Series'>\n",
      "Int64Index: 20 entries, 386 to 16\n",
      "Series name: FL\n",
      "Non-Null Count  Dtype          \n",
      "--------------  -----          \n",
      "20 non-null     timedelta64[ns]\n",
      "dtypes: timedelta64[ns](1)\n",
      "memory usage: 320.0 bytes\n"
     ]
    }
   ],
   "source": [
    "test_df.info()"
   ]
  },
  {
   "cell_type": "code",
   "execution_count": 271,
   "metadata": {},
   "outputs": [],
   "source": [
    "test_df = test_df.dt.total_seconds()"
   ]
  },
  {
   "cell_type": "code",
   "execution_count": 272,
   "metadata": {},
   "outputs": [],
   "source": [
    "test_df_2 = fastest_lap"
   ]
  },
  {
   "cell_type": "code",
   "execution_count": 273,
   "metadata": {},
   "outputs": [
    {
     "name": "stdout",
     "output_type": "stream",
     "text": [
      "<class 'pandas.core.frame.DataFrame'>\n",
      "Int64Index: 388 entries, 387 to 0\n",
      "Data columns (total 6 columns):\n",
      " #   Column     Non-Null Count  Dtype          \n",
      "---  ------     --------------  -----          \n",
      " 0   NO         388 non-null    int64          \n",
      " 1   DRIVER     388 non-null    object         \n",
      " 2   CAR        388 non-null    object         \n",
      " 3   RACE       388 non-null    object         \n",
      " 4   FL         388 non-null    timedelta64[ns]\n",
      " 5   AVG_SPEED  388 non-null    float64        \n",
      "dtypes: float64(1), int64(1), object(3), timedelta64[ns](1)\n",
      "memory usage: 21.2+ KB\n"
     ]
    }
   ],
   "source": [
    "test_df_2.info()"
   ]
  },
  {
   "cell_type": "code",
   "execution_count": 274,
   "metadata": {},
   "outputs": [],
   "source": [
    "test_df_2['FL'] = test_df_2['FL'].dt.total_seconds()"
   ]
  },
  {
   "cell_type": "code",
   "execution_count": null,
   "metadata": {},
   "outputs": [],
   "source": []
  }
 ],
 "metadata": {
  "kernelspec": {
   "display_name": "Python 3.10.0 ('.venv': poetry)",
   "language": "python",
   "name": "python3"
  },
  "language_info": {
   "codemirror_mode": {
    "name": "ipython",
    "version": 3
   },
   "file_extension": ".py",
   "mimetype": "text/x-python",
   "name": "python",
   "nbconvert_exporter": "python",
   "pygments_lexer": "ipython3",
   "version": "3.10.0"
  },
  "orig_nbformat": 4,
  "vscode": {
   "interpreter": {
    "hash": "b128cacd8e5c75fa5980c16486a6407eea02871677fc1b470f9c2acf61e93cad"
   }
  }
 },
 "nbformat": 4,
 "nbformat_minor": 2
}
