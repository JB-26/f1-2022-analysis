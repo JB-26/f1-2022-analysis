{
 "cells": [
  {
   "cell_type": "markdown",
   "metadata": {},
   "source": [
    "# Team Analysis"
   ]
  },
  {
   "cell_type": "code",
   "execution_count": 1,
   "metadata": {},
   "outputs": [],
   "source": [
    "import pandas as pd\n",
    "import numpy as np\n",
    "import seaborn as sns\n",
    "import matplotlib.pyplot as plt\n",
    "import cufflinks as cf"
   ]
  },
  {
   "cell_type": "code",
   "execution_count": 2,
   "metadata": {},
   "outputs": [],
   "source": [
    "%matplotlib inline"
   ]
  },
  {
   "cell_type": "code",
   "execution_count": 3,
   "metadata": {},
   "outputs": [],
   "source": [
    "sns.set_theme()"
   ]
  },
  {
   "cell_type": "code",
   "execution_count": 5,
   "metadata": {},
   "outputs": [
    {
     "data": {
      "text/html": [
       "<div>\n",
       "<style scoped>\n",
       "    .dataframe tbody tr th:only-of-type {\n",
       "        vertical-align: middle;\n",
       "    }\n",
       "\n",
       "    .dataframe tbody tr th {\n",
       "        vertical-align: top;\n",
       "    }\n",
       "\n",
       "    .dataframe thead th {\n",
       "        text-align: right;\n",
       "    }\n",
       "</style>\n",
       "<table border=\"1\" class=\"dataframe\">\n",
       "  <thead>\n",
       "    <tr style=\"text-align: right;\">\n",
       "      <th></th>\n",
       "      <th>POS</th>\n",
       "      <th>Driver</th>\n",
       "      <th>Car</th>\n",
       "      <th>Laps</th>\n",
       "      <th>Time/Retired</th>\n",
       "      <th>PTS</th>\n",
       "      <th>Race</th>\n",
       "    </tr>\n",
       "  </thead>\n",
       "  <tbody>\n",
       "    <tr>\n",
       "      <th>0</th>\n",
       "      <td>1</td>\n",
       "      <td>Charles Leclerc</td>\n",
       "      <td>Ferrari</td>\n",
       "      <td>57</td>\n",
       "      <td>37:33.6</td>\n",
       "      <td>26</td>\n",
       "      <td>BAHRAIN</td>\n",
       "    </tr>\n",
       "    <tr>\n",
       "      <th>1</th>\n",
       "      <td>2</td>\n",
       "      <td>Carlos Sainz</td>\n",
       "      <td>Ferrari</td>\n",
       "      <td>57</td>\n",
       "      <td>+5.598s</td>\n",
       "      <td>18</td>\n",
       "      <td>BAHRAIN</td>\n",
       "    </tr>\n",
       "    <tr>\n",
       "      <th>2</th>\n",
       "      <td>3</td>\n",
       "      <td>Lewis Hamilton</td>\n",
       "      <td>Mercedes</td>\n",
       "      <td>57</td>\n",
       "      <td>+9.675s</td>\n",
       "      <td>15</td>\n",
       "      <td>BAHRAIN</td>\n",
       "    </tr>\n",
       "    <tr>\n",
       "      <th>3</th>\n",
       "      <td>4</td>\n",
       "      <td>George Russell</td>\n",
       "      <td>Mercedes</td>\n",
       "      <td>57</td>\n",
       "      <td>+11.211s</td>\n",
       "      <td>12</td>\n",
       "      <td>BAHRAIN</td>\n",
       "    </tr>\n",
       "    <tr>\n",
       "      <th>4</th>\n",
       "      <td>5</td>\n",
       "      <td>Kevin Magnussen</td>\n",
       "      <td>Haas Ferrari</td>\n",
       "      <td>57</td>\n",
       "      <td>+14.754s</td>\n",
       "      <td>10</td>\n",
       "      <td>BAHRAIN</td>\n",
       "    </tr>\n",
       "  </tbody>\n",
       "</table>\n",
       "</div>"
      ],
      "text/plain": [
       "  POS           Driver           Car  Laps Time/Retired  PTS     Race\n",
       "0   1  Charles Leclerc       Ferrari    57      37:33.6   26  BAHRAIN\n",
       "1   2     Carlos Sainz       Ferrari    57      +5.598s   18  BAHRAIN\n",
       "2   3   Lewis Hamilton      Mercedes    57      +9.675s   15  BAHRAIN\n",
       "3   4   George Russell      Mercedes    57     +11.211s   12  BAHRAIN\n",
       "4   5  Kevin Magnussen  Haas Ferrari    57     +14.754s   10  BAHRAIN"
      ]
     },
     "execution_count": 5,
     "metadata": {},
     "output_type": "execute_result"
    }
   ],
   "source": [
    "# create dataframe and remove extra column\n",
    "raceResults = pd.read_csv('data/compiled-data/race-results.csv')\n",
    "raceResults.drop(columns=['Unnamed: 0'], axis=1, inplace=True)\n",
    "raceResults.head()"
   ]
  },
  {
   "cell_type": "code",
   "execution_count": 7,
   "metadata": {},
   "outputs": [
    {
     "data": {
      "text/html": [
       "<div>\n",
       "<style scoped>\n",
       "    .dataframe tbody tr th:only-of-type {\n",
       "        vertical-align: middle;\n",
       "    }\n",
       "\n",
       "    .dataframe tbody tr th {\n",
       "        vertical-align: top;\n",
       "    }\n",
       "\n",
       "    .dataframe thead th {\n",
       "        text-align: right;\n",
       "    }\n",
       "</style>\n",
       "<table border=\"1\" class=\"dataframe\">\n",
       "  <thead>\n",
       "    <tr style=\"text-align: right;\">\n",
       "      <th></th>\n",
       "      <th>Laps</th>\n",
       "      <th>PTS</th>\n",
       "    </tr>\n",
       "  </thead>\n",
       "  <tbody>\n",
       "    <tr>\n",
       "      <th>count</th>\n",
       "      <td>440.000000</td>\n",
       "      <td>440.000000</td>\n",
       "    </tr>\n",
       "    <tr>\n",
       "      <th>mean</th>\n",
       "      <td>53.475000</td>\n",
       "      <td>5.095455</td>\n",
       "    </tr>\n",
       "    <tr>\n",
       "      <th>std</th>\n",
       "      <td>17.306017</td>\n",
       "      <td>7.263663</td>\n",
       "    </tr>\n",
       "    <tr>\n",
       "      <th>min</th>\n",
       "      <td>0.000000</td>\n",
       "      <td>0.000000</td>\n",
       "    </tr>\n",
       "    <tr>\n",
       "      <th>25%</th>\n",
       "      <td>50.000000</td>\n",
       "      <td>0.000000</td>\n",
       "    </tr>\n",
       "    <tr>\n",
       "      <th>50%</th>\n",
       "      <td>57.000000</td>\n",
       "      <td>0.500000</td>\n",
       "    </tr>\n",
       "    <tr>\n",
       "      <th>75%</th>\n",
       "      <td>66.000000</td>\n",
       "      <td>9.250000</td>\n",
       "    </tr>\n",
       "    <tr>\n",
       "      <th>max</th>\n",
       "      <td>72.000000</td>\n",
       "      <td>26.000000</td>\n",
       "    </tr>\n",
       "  </tbody>\n",
       "</table>\n",
       "</div>"
      ],
      "text/plain": [
       "             Laps         PTS\n",
       "count  440.000000  440.000000\n",
       "mean    53.475000    5.095455\n",
       "std     17.306017    7.263663\n",
       "min      0.000000    0.000000\n",
       "25%     50.000000    0.000000\n",
       "50%     57.000000    0.500000\n",
       "75%     66.000000    9.250000\n",
       "max     72.000000   26.000000"
      ]
     },
     "execution_count": 7,
     "metadata": {},
     "output_type": "execute_result"
    }
   ],
   "source": [
    "raceResults.describe()"
   ]
  },
  {
   "cell_type": "code",
   "execution_count": 15,
   "metadata": {},
   "outputs": [
    {
     "data": {
      "text/plain": [
       "10"
      ]
     },
     "execution_count": 15,
     "metadata": {},
     "output_type": "execute_result"
    }
   ],
   "source": [
    "teamNameArray = ['Ferrari', 'Red Bull Racing RBPT', 'Mercedes', 'McLaren Mercedes', 'Alpine Renault', 'Alfa Romeo Ferrari', 'AlphaTauri RBPT', 'Williams Mercedes', 'Aston Martin Aramco Mercedes', 'Haas Ferrari']\n",
    "len(teamNameArray)"
   ]
  },
  {
   "cell_type": "code",
   "execution_count": 16,
   "metadata": {},
   "outputs": [],
   "source": [
    "driverNameArray = ['Max Verstappen', 'Charles Leclerc', 'Sergio Perez', 'Carlos Sainz', 'George Russell', 'Lando Norris', 'Esteban Ocon', 'Lance Stroll', 'Daniel Ricciardo', 'Sebastian Vettel', 'Yuki Tsunoda', 'Zhou Guanyu', 'Alexander Albon', 'Pierre Gasly', 'Valtteri Bottas', 'Mick Schumacher', 'Kevin Magnussen', 'Lewis Hamilton', 'Nicholas Latifi', 'Fernando Alonso']"
   ]
  },
  {
   "cell_type": "markdown",
   "metadata": {},
   "source": [
    "# Average number of points per race"
   ]
  },
  {
   "cell_type": "code",
   "execution_count": 47,
   "metadata": {},
   "outputs": [
    {
     "data": {
      "text/html": [
       "<div>\n",
       "<style scoped>\n",
       "    .dataframe tbody tr th:only-of-type {\n",
       "        vertical-align: middle;\n",
       "    }\n",
       "\n",
       "    .dataframe tbody tr th {\n",
       "        vertical-align: top;\n",
       "    }\n",
       "\n",
       "    .dataframe thead th {\n",
       "        text-align: right;\n",
       "    }\n",
       "</style>\n",
       "<table border=\"1\" class=\"dataframe\">\n",
       "  <thead>\n",
       "    <tr style=\"text-align: right;\">\n",
       "      <th></th>\n",
       "      <th>Team</th>\n",
       "      <th>AvgPoints</th>\n",
       "    </tr>\n",
       "  </thead>\n",
       "  <tbody>\n",
       "  </tbody>\n",
       "</table>\n",
       "</div>"
      ],
      "text/plain": [
       "Empty DataFrame\n",
       "Columns: [Team, AvgPoints]\n",
       "Index: []"
      ]
     },
     "execution_count": 47,
     "metadata": {},
     "output_type": "execute_result"
    }
   ],
   "source": [
    "avgPoints = pd.DataFrame()\n",
    "avgPoints = avgPoints.assign(Team = '', AvgPoints = '')\n",
    "avgPoints.head()"
   ]
  },
  {
   "cell_type": "code",
   "execution_count": 48,
   "metadata": {},
   "outputs": [],
   "source": [
    "for i in teamNameArray:\n",
    "    testRes = round(raceResults.loc[raceResults['Car'] == i]['PTS'].mean(), 2)\n",
    "    avgPoints.loc[-1] = [i, testRes]\n",
    "    avgPoints.index = avgPoints.index + 1\n",
    "\n",
    "avgPoints.sort_values(by='AvgPoints', inplace=True, ascending=False)"
   ]
  },
  {
   "cell_type": "code",
   "execution_count": 12,
   "metadata": {},
   "outputs": [
    {
     "data": {
      "text/html": [
       "<div>\n",
       "<style scoped>\n",
       "    .dataframe tbody tr th:only-of-type {\n",
       "        vertical-align: middle;\n",
       "    }\n",
       "\n",
       "    .dataframe tbody tr th {\n",
       "        vertical-align: top;\n",
       "    }\n",
       "\n",
       "    .dataframe thead th {\n",
       "        text-align: right;\n",
       "    }\n",
       "</style>\n",
       "<table border=\"1\" class=\"dataframe\">\n",
       "  <thead>\n",
       "    <tr style=\"text-align: right;\">\n",
       "      <th></th>\n",
       "      <th>POS</th>\n",
       "      <th>Driver</th>\n",
       "      <th>Car</th>\n",
       "      <th>Laps</th>\n",
       "      <th>Time/Retired</th>\n",
       "      <th>PTS</th>\n",
       "      <th>Race</th>\n",
       "    </tr>\n",
       "  </thead>\n",
       "  <tbody>\n",
       "    <tr>\n",
       "      <th>17</th>\n",
       "      <td>18</td>\n",
       "      <td>Sergio Perez</td>\n",
       "      <td>Red Bull Racing RBPT</td>\n",
       "      <td>56</td>\n",
       "      <td>DNF</td>\n",
       "      <td>0</td>\n",
       "      <td>BAHRAIN</td>\n",
       "    </tr>\n",
       "    <tr>\n",
       "      <th>18</th>\n",
       "      <td>19</td>\n",
       "      <td>Max Verstappen</td>\n",
       "      <td>Red Bull Racing RBPT</td>\n",
       "      <td>54</td>\n",
       "      <td>DNF</td>\n",
       "      <td>0</td>\n",
       "      <td>BAHRAIN</td>\n",
       "    </tr>\n",
       "    <tr>\n",
       "      <th>20</th>\n",
       "      <td>1</td>\n",
       "      <td>Max Verstappen</td>\n",
       "      <td>Red Bull Racing RBPT</td>\n",
       "      <td>50</td>\n",
       "      <td>24:19.3</td>\n",
       "      <td>25</td>\n",
       "      <td>SAUDI ARABIA</td>\n",
       "    </tr>\n",
       "    <tr>\n",
       "      <th>23</th>\n",
       "      <td>4</td>\n",
       "      <td>Sergio Perez</td>\n",
       "      <td>Red Bull Racing RBPT</td>\n",
       "      <td>50</td>\n",
       "      <td>+10.800s</td>\n",
       "      <td>12</td>\n",
       "      <td>SAUDI ARABIA</td>\n",
       "    </tr>\n",
       "    <tr>\n",
       "      <th>41</th>\n",
       "      <td>2</td>\n",
       "      <td>Sergio Perez</td>\n",
       "      <td>Red Bull Racing RBPT</td>\n",
       "      <td>58</td>\n",
       "      <td>+20.524s</td>\n",
       "      <td>18</td>\n",
       "      <td>AUSTRALIA</td>\n",
       "    </tr>\n",
       "  </tbody>\n",
       "</table>\n",
       "</div>"
      ],
      "text/plain": [
       "   POS          Driver                   Car  Laps Time/Retired  PTS  \\\n",
       "17  18    Sergio Perez  Red Bull Racing RBPT    56          DNF    0   \n",
       "18  19  Max Verstappen  Red Bull Racing RBPT    54          DNF    0   \n",
       "20   1  Max Verstappen  Red Bull Racing RBPT    50      24:19.3   25   \n",
       "23   4    Sergio Perez  Red Bull Racing RBPT    50     +10.800s   12   \n",
       "41   2    Sergio Perez  Red Bull Racing RBPT    58     +20.524s   18   \n",
       "\n",
       "            Race  \n",
       "17       BAHRAIN  \n",
       "18       BAHRAIN  \n",
       "20  SAUDI ARABIA  \n",
       "23  SAUDI ARABIA  \n",
       "41     AUSTRALIA  "
      ]
     },
     "execution_count": 12,
     "metadata": {},
     "output_type": "execute_result"
    }
   ],
   "source": [
    "# not a great way of doing this per race - plenty of repeated code!\n",
    "#redBull = raceResults.loc[raceResults['Car'] == 'Red Bull Racing RBPT']\n",
    "#redBull.head()"
   ]
  },
  {
   "cell_type": "code",
   "execution_count": 15,
   "metadata": {},
   "outputs": [
    {
     "data": {
      "text/plain": [
       "16.285714285714285"
      ]
     },
     "execution_count": 15,
     "metadata": {},
     "output_type": "execute_result"
    }
   ],
   "source": [
    "#redBull['PTS'].mean()"
   ]
  },
  {
   "cell_type": "code",
   "execution_count": 16,
   "metadata": {},
   "outputs": [
    {
     "data": {
      "text/html": [
       "<div>\n",
       "<style scoped>\n",
       "    .dataframe tbody tr th:only-of-type {\n",
       "        vertical-align: middle;\n",
       "    }\n",
       "\n",
       "    .dataframe tbody tr th {\n",
       "        vertical-align: top;\n",
       "    }\n",
       "\n",
       "    .dataframe thead th {\n",
       "        text-align: right;\n",
       "    }\n",
       "</style>\n",
       "<table border=\"1\" class=\"dataframe\">\n",
       "  <thead>\n",
       "    <tr style=\"text-align: right;\">\n",
       "      <th></th>\n",
       "      <th>POS</th>\n",
       "      <th>Driver</th>\n",
       "      <th>Car</th>\n",
       "      <th>Laps</th>\n",
       "      <th>Time/Retired</th>\n",
       "      <th>PTS</th>\n",
       "      <th>Race</th>\n",
       "    </tr>\n",
       "  </thead>\n",
       "  <tbody>\n",
       "    <tr>\n",
       "      <th>0</th>\n",
       "      <td>1</td>\n",
       "      <td>Charles Leclerc</td>\n",
       "      <td>Ferrari</td>\n",
       "      <td>57</td>\n",
       "      <td>37:33.6</td>\n",
       "      <td>26</td>\n",
       "      <td>BAHRAIN</td>\n",
       "    </tr>\n",
       "    <tr>\n",
       "      <th>1</th>\n",
       "      <td>2</td>\n",
       "      <td>Carlos Sainz</td>\n",
       "      <td>Ferrari</td>\n",
       "      <td>57</td>\n",
       "      <td>+5.598s</td>\n",
       "      <td>18</td>\n",
       "      <td>BAHRAIN</td>\n",
       "    </tr>\n",
       "    <tr>\n",
       "      <th>21</th>\n",
       "      <td>2</td>\n",
       "      <td>Charles Leclerc</td>\n",
       "      <td>Ferrari</td>\n",
       "      <td>50</td>\n",
       "      <td>+0.549s</td>\n",
       "      <td>19</td>\n",
       "      <td>SAUDI ARABIA</td>\n",
       "    </tr>\n",
       "    <tr>\n",
       "      <th>22</th>\n",
       "      <td>3</td>\n",
       "      <td>Carlos Sainz</td>\n",
       "      <td>Ferrari</td>\n",
       "      <td>50</td>\n",
       "      <td>+8.097s</td>\n",
       "      <td>15</td>\n",
       "      <td>SAUDI ARABIA</td>\n",
       "    </tr>\n",
       "    <tr>\n",
       "      <th>40</th>\n",
       "      <td>1</td>\n",
       "      <td>Charles Leclerc</td>\n",
       "      <td>Ferrari</td>\n",
       "      <td>58</td>\n",
       "      <td>27:46.5</td>\n",
       "      <td>26</td>\n",
       "      <td>AUSTRALIA</td>\n",
       "    </tr>\n",
       "  </tbody>\n",
       "</table>\n",
       "</div>"
      ],
      "text/plain": [
       "   POS           Driver      Car  Laps Time/Retired  PTS          Race\n",
       "0    1  Charles Leclerc  Ferrari    57      37:33.6   26       BAHRAIN\n",
       "1    2     Carlos Sainz  Ferrari    57      +5.598s   18       BAHRAIN\n",
       "21   2  Charles Leclerc  Ferrari    50      +0.549s   19  SAUDI ARABIA\n",
       "22   3     Carlos Sainz  Ferrari    50      +8.097s   15  SAUDI ARABIA\n",
       "40   1  Charles Leclerc  Ferrari    58      27:46.5   26     AUSTRALIA"
      ]
     },
     "execution_count": 16,
     "metadata": {},
     "output_type": "execute_result"
    }
   ],
   "source": [
    "#ferrari = raceResults.loc[raceResults['Car'] == 'Ferrari']\n",
    "#ferrari.head()"
   ]
  },
  {
   "cell_type": "code",
   "execution_count": 17,
   "metadata": {},
   "outputs": [
    {
     "data": {
      "text/plain": [
       "11.642857142857142"
      ]
     },
     "execution_count": 17,
     "metadata": {},
     "output_type": "execute_result"
    }
   ],
   "source": [
    "#ferrari['PTS'].mean()"
   ]
  },
  {
   "cell_type": "code",
   "execution_count": 49,
   "metadata": {},
   "outputs": [
    {
     "data": {
      "text/plain": [
       "[Text(0, 0, 'Red Bull Racing RBPT'),\n",
       " Text(1, 0, 'Ferrari'),\n",
       " Text(2, 0, 'Mercedes'),\n",
       " Text(3, 0, 'Alpine Renault'),\n",
       " Text(4, 0, 'McLaren Mercedes'),\n",
       " Text(5, 0, 'Aston Martin Aramco Mercedes'),\n",
       " Text(6, 0, 'Alfa Romeo Ferrari'),\n",
       " Text(7, 0, 'AlphaTauri RBPT'),\n",
       " Text(8, 0, 'Haas Ferrari'),\n",
       " Text(9, 0, 'Williams Mercedes')]"
      ]
     },
     "execution_count": 49,
     "metadata": {},
     "output_type": "execute_result"
    },
    {
     "data": {
      "image/png": "[encoded data removed]",
      "text/plain": [
       "<Figure size 640x480 with 1 Axes>"
      ]
     },
     "metadata": {},
     "output_type": "display_data"
    }
   ],
   "source": [
    "plot = sns.barplot(data=avgPoints, x='Team', y='AvgPoints')\n",
    "plot.set_xticklabels(plot.get_xticklabels(), rotation=45, horizontalalignment='right')"
   ]
  },
  {
   "cell_type": "markdown",
   "metadata": {},
   "source": [
    "# Standard Deviation"
   ]
  },
  {
   "cell_type": "code",
   "execution_count": 9,
   "metadata": {},
   "outputs": [
    {
     "data": {
      "text/html": [
       "<div>\n",
       "<style scoped>\n",
       "    .dataframe tbody tr th:only-of-type {\n",
       "        vertical-align: middle;\n",
       "    }\n",
       "\n",
       "    .dataframe tbody tr th {\n",
       "        vertical-align: top;\n",
       "    }\n",
       "\n",
       "    .dataframe thead th {\n",
       "        text-align: right;\n",
       "    }\n",
       "</style>\n",
       "<table border=\"1\" class=\"dataframe\">\n",
       "  <thead>\n",
       "    <tr style=\"text-align: right;\">\n",
       "      <th></th>\n",
       "      <th>Team</th>\n",
       "      <th>Deviation</th>\n",
       "    </tr>\n",
       "  </thead>\n",
       "  <tbody>\n",
       "  </tbody>\n",
       "</table>\n",
       "</div>"
      ],
      "text/plain": [
       "Empty DataFrame\n",
       "Columns: [Team, Deviation]\n",
       "Index: []"
      ]
     },
     "execution_count": 9,
     "metadata": {},
     "output_type": "execute_result"
    }
   ],
   "source": [
    "deviation = pd.DataFrame()\n",
    "deviation = deviation.assign(Team = '', Deviation = '')\n",
    "deviation.head()"
   ]
  },
  {
   "cell_type": "code",
   "execution_count": 12,
   "metadata": {},
   "outputs": [],
   "source": [
    "for i in teamNameArray:\n",
    "    testRes = round(raceResults.loc[raceResults['Car'] == i]['PTS'].std(), 2)\n",
    "    deviation.loc[-1] = [i, testRes]\n",
    "    deviation.index = deviation.index + 1"
   ]
  },
  {
   "cell_type": "markdown",
   "metadata": {},
   "source": [
    "# Fastest lap - average speed"
   ]
  },
  {
   "cell_type": "code",
   "execution_count": 14,
   "metadata": {},
   "outputs": [
    {
     "data": {
      "text/html": [
       "<div>\n",
       "<style scoped>\n",
       "    .dataframe tbody tr th:only-of-type {\n",
       "        vertical-align: middle;\n",
       "    }\n",
       "\n",
       "    .dataframe tbody tr th {\n",
       "        vertical-align: top;\n",
       "    }\n",
       "\n",
       "    .dataframe thead th {\n",
       "        text-align: right;\n",
       "    }\n",
       "</style>\n",
       "<table border=\"1\" class=\"dataframe\">\n",
       "  <thead>\n",
       "    <tr style=\"text-align: right;\">\n",
       "      <th></th>\n",
       "      <th>NO</th>\n",
       "      <th>DRIVER</th>\n",
       "      <th>CAR</th>\n",
       "      <th>RACE</th>\n",
       "      <th>FL</th>\n",
       "      <th>AVG_SPEED</th>\n",
       "    </tr>\n",
       "  </thead>\n",
       "  <tbody>\n",
       "    <tr>\n",
       "      <th>0</th>\n",
       "      <td>16</td>\n",
       "      <td>Charles Leclerc</td>\n",
       "      <td>Ferrari</td>\n",
       "      <td>BAHRAIN</td>\n",
       "      <td>94.6</td>\n",
       "      <td>206.018</td>\n",
       "    </tr>\n",
       "    <tr>\n",
       "      <th>1</th>\n",
       "      <td>1</td>\n",
       "      <td>Max Verstappen</td>\n",
       "      <td>Red Bull Racing RBPT</td>\n",
       "      <td>BAHRAIN</td>\n",
       "      <td>95.4</td>\n",
       "      <td>204.140</td>\n",
       "    </tr>\n",
       "    <tr>\n",
       "      <th>2</th>\n",
       "      <td>55</td>\n",
       "      <td>Carlos Sainz</td>\n",
       "      <td>Ferrari</td>\n",
       "      <td>BAHRAIN</td>\n",
       "      <td>95.7</td>\n",
       "      <td>203.501</td>\n",
       "    </tr>\n",
       "    <tr>\n",
       "      <th>3</th>\n",
       "      <td>11</td>\n",
       "      <td>Sergio Perez</td>\n",
       "      <td>Red Bull Racing RBPT</td>\n",
       "      <td>BAHRAIN</td>\n",
       "      <td>96.1</td>\n",
       "      <td>202.762</td>\n",
       "    </tr>\n",
       "    <tr>\n",
       "      <th>4</th>\n",
       "      <td>44</td>\n",
       "      <td>Lewis Hamilton</td>\n",
       "      <td>Mercedes</td>\n",
       "      <td>BAHRAIN</td>\n",
       "      <td>96.2</td>\n",
       "      <td>202.469</td>\n",
       "    </tr>\n",
       "  </tbody>\n",
       "</table>\n",
       "</div>"
      ],
      "text/plain": [
       "   NO           DRIVER                   CAR     RACE    FL  AVG_SPEED\n",
       "0  16  Charles Leclerc               Ferrari  BAHRAIN  94.6    206.018\n",
       "1   1   Max Verstappen  Red Bull Racing RBPT  BAHRAIN  95.4    204.140\n",
       "2  55     Carlos Sainz               Ferrari  BAHRAIN  95.7    203.501\n",
       "3  11     Sergio Perez  Red Bull Racing RBPT  BAHRAIN  96.1    202.762\n",
       "4  44   Lewis Hamilton              Mercedes  BAHRAIN  96.2    202.469"
      ]
     },
     "execution_count": 14,
     "metadata": {},
     "output_type": "execute_result"
    }
   ],
   "source": [
    "fastestLap = pd.read_csv('data/compiled-data/fastest-laps.csv')\n",
    "fastestLap.drop(columns=['Unnamed: 0'], axis=1, inplace=True)\n",
    "fastestLap.head()"
   ]
  },
  {
   "cell_type": "code",
   "execution_count": 43,
   "metadata": {},
   "outputs": [
    {
     "data": {
      "text/html": [
       "<div>\n",
       "<style scoped>\n",
       "    .dataframe tbody tr th:only-of-type {\n",
       "        vertical-align: middle;\n",
       "    }\n",
       "\n",
       "    .dataframe tbody tr th {\n",
       "        vertical-align: top;\n",
       "    }\n",
       "\n",
       "    .dataframe thead th {\n",
       "        text-align: right;\n",
       "    }\n",
       "</style>\n",
       "<table border=\"1\" class=\"dataframe\">\n",
       "  <thead>\n",
       "    <tr style=\"text-align: right;\">\n",
       "      <th></th>\n",
       "      <th>Driver</th>\n",
       "      <th>AvgFastestLap</th>\n",
       "    </tr>\n",
       "  </thead>\n",
       "  <tbody>\n",
       "  </tbody>\n",
       "</table>\n",
       "</div>"
      ],
      "text/plain": [
       "Empty DataFrame\n",
       "Columns: [Driver, AvgFastestLap]\n",
       "Index: []"
      ]
     },
     "execution_count": 43,
     "metadata": {},
     "output_type": "execute_result"
    }
   ],
   "source": [
    "avgFastestLap = pd.DataFrame()\n",
    "avgFastestLap = avgFastestLap.assign(Driver = '', AvgFastestLap = '')\n",
    "avgFastestLap.head()"
   ]
  },
  {
   "cell_type": "code",
   "execution_count": 44,
   "metadata": {},
   "outputs": [],
   "source": [
    "for i in driverNameArray:\n",
    "    testRes = round(fastestLap.loc[fastestLap['DRIVER'] == i]['FL'].mean(), 2)\n",
    "    avgFastestLap.loc[-1] = [i, testRes]\n",
    "    avgFastestLap.index = avgFastestLap.index + 1\n",
    "\n",
    "avgFastestLap.sort_values(by='AvgFastestLap', inplace=True)"
   ]
  },
  {
   "cell_type": "code",
   "execution_count": null,
   "metadata": {},
   "outputs": [],
   "source": []
  }
 ],
 "metadata": {
  "kernelspec": {
   "display_name": "Python 3.10.0 ('.venv': poetry)",
   "language": "python",
   "name": "python3"
  },
  "language_info": {
   "codemirror_mode": {
    "name": "ipython",
    "version": 3
   },
   "file_extension": ".py",
   "mimetype": "text/x-python",
   "name": "python",
   "nbconvert_exporter": "python",
   "pygments_lexer": "ipython3",
   "version": "3.10.0"
  },
  "orig_nbformat": 4,
  "vscode": {
   "interpreter": {
    "hash": "b128cacd8e5c75fa5980c16486a6407eea02871677fc1b470f9c2acf61e93cad"
   }
  }
 },
 "nbformat": 4,
 "nbformat_minor": 2
}
