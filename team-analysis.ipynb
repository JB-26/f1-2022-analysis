{
 "cells": [
  {
   "cell_type": "code",
   "execution_count": 1,
   "metadata": {},
   "outputs": [],
   "source": [
    "import pandas as pd"
   ]
  },
  {
   "cell_type": "code",
   "execution_count": 11,
   "metadata": {},
   "outputs": [
    {
     "data": {
      "text/html": [
       "<div>\n",
       "<style scoped>\n",
       "    .dataframe tbody tr th:only-of-type {\n",
       "        vertical-align: middle;\n",
       "    }\n",
       "\n",
       "    .dataframe tbody tr th {\n",
       "        vertical-align: top;\n",
       "    }\n",
       "\n",
       "    .dataframe thead th {\n",
       "        text-align: right;\n",
       "    }\n",
       "</style>\n",
       "<table border=\"1\" class=\"dataframe\">\n",
       "  <thead>\n",
       "    <tr style=\"text-align: right;\">\n",
       "      <th></th>\n",
       "      <th>POS</th>\n",
       "      <th>Driver</th>\n",
       "      <th>Car</th>\n",
       "      <th>Laps</th>\n",
       "      <th>Time/Retired</th>\n",
       "      <th>PTS</th>\n",
       "      <th>Race</th>\n",
       "    </tr>\n",
       "  </thead>\n",
       "  <tbody>\n",
       "    <tr>\n",
       "      <th>0</th>\n",
       "      <td>1</td>\n",
       "      <td>Charles Leclerc</td>\n",
       "      <td>Ferrari</td>\n",
       "      <td>57</td>\n",
       "      <td>37:33.6</td>\n",
       "      <td>26</td>\n",
       "      <td>BAHRAIN</td>\n",
       "    </tr>\n",
       "    <tr>\n",
       "      <th>1</th>\n",
       "      <td>2</td>\n",
       "      <td>Carlos Sainz</td>\n",
       "      <td>Ferrari</td>\n",
       "      <td>57</td>\n",
       "      <td>+5.598s</td>\n",
       "      <td>18</td>\n",
       "      <td>BAHRAIN</td>\n",
       "    </tr>\n",
       "    <tr>\n",
       "      <th>2</th>\n",
       "      <td>3</td>\n",
       "      <td>Lewis Hamilton</td>\n",
       "      <td>Mercedes</td>\n",
       "      <td>57</td>\n",
       "      <td>+9.675s</td>\n",
       "      <td>15</td>\n",
       "      <td>BAHRAIN</td>\n",
       "    </tr>\n",
       "    <tr>\n",
       "      <th>3</th>\n",
       "      <td>4</td>\n",
       "      <td>George Russell</td>\n",
       "      <td>Mercedes</td>\n",
       "      <td>57</td>\n",
       "      <td>+11.211s</td>\n",
       "      <td>12</td>\n",
       "      <td>BAHRAIN</td>\n",
       "    </tr>\n",
       "    <tr>\n",
       "      <th>4</th>\n",
       "      <td>5</td>\n",
       "      <td>Kevin Magnussen</td>\n",
       "      <td>Haas Ferrari</td>\n",
       "      <td>57</td>\n",
       "      <td>+14.754s</td>\n",
       "      <td>10</td>\n",
       "      <td>BAHRAIN</td>\n",
       "    </tr>\n",
       "  </tbody>\n",
       "</table>\n",
       "</div>"
      ],
      "text/plain": [
       "  POS           Driver           Car  Laps Time/Retired  PTS     Race\n",
       "0   1  Charles Leclerc       Ferrari    57      37:33.6   26  BAHRAIN\n",
       "1   2     Carlos Sainz       Ferrari    57      +5.598s   18  BAHRAIN\n",
       "2   3   Lewis Hamilton      Mercedes    57      +9.675s   15  BAHRAIN\n",
       "3   4   George Russell      Mercedes    57     +11.211s   12  BAHRAIN\n",
       "4   5  Kevin Magnussen  Haas Ferrari    57     +14.754s   10  BAHRAIN"
      ]
     },
     "execution_count": 11,
     "metadata": {},
     "output_type": "execute_result"
    }
   ],
   "source": [
    "# create dataframe and remove extra column\n",
    "raceResults = pd.read_csv('data/compiled-data/race-results.csv')\n",
    "raceResults.drop(columns=['Unnamed: 0'], axis=1, inplace=True)\n",
    "raceResults.head()"
   ]
  },
  {
   "cell_type": "code",
   "execution_count": 12,
   "metadata": {},
   "outputs": [
    {
     "data": {
      "text/html": [
       "<div>\n",
       "<style scoped>\n",
       "    .dataframe tbody tr th:only-of-type {\n",
       "        vertical-align: middle;\n",
       "    }\n",
       "\n",
       "    .dataframe tbody tr th {\n",
       "        vertical-align: top;\n",
       "    }\n",
       "\n",
       "    .dataframe thead th {\n",
       "        text-align: right;\n",
       "    }\n",
       "</style>\n",
       "<table border=\"1\" class=\"dataframe\">\n",
       "  <thead>\n",
       "    <tr style=\"text-align: right;\">\n",
       "      <th></th>\n",
       "      <th>POS</th>\n",
       "      <th>Driver</th>\n",
       "      <th>Car</th>\n",
       "      <th>Laps</th>\n",
       "      <th>Time/Retired</th>\n",
       "      <th>PTS</th>\n",
       "      <th>Race</th>\n",
       "    </tr>\n",
       "  </thead>\n",
       "  <tbody>\n",
       "    <tr>\n",
       "      <th>17</th>\n",
       "      <td>18</td>\n",
       "      <td>Sergio Perez</td>\n",
       "      <td>Red Bull Racing RBPT</td>\n",
       "      <td>56</td>\n",
       "      <td>DNF</td>\n",
       "      <td>0</td>\n",
       "      <td>BAHRAIN</td>\n",
       "    </tr>\n",
       "    <tr>\n",
       "      <th>18</th>\n",
       "      <td>19</td>\n",
       "      <td>Max Verstappen</td>\n",
       "      <td>Red Bull Racing RBPT</td>\n",
       "      <td>54</td>\n",
       "      <td>DNF</td>\n",
       "      <td>0</td>\n",
       "      <td>BAHRAIN</td>\n",
       "    </tr>\n",
       "    <tr>\n",
       "      <th>20</th>\n",
       "      <td>1</td>\n",
       "      <td>Max Verstappen</td>\n",
       "      <td>Red Bull Racing RBPT</td>\n",
       "      <td>50</td>\n",
       "      <td>24:19.3</td>\n",
       "      <td>25</td>\n",
       "      <td>SAUDI ARABIA</td>\n",
       "    </tr>\n",
       "    <tr>\n",
       "      <th>23</th>\n",
       "      <td>4</td>\n",
       "      <td>Sergio Perez</td>\n",
       "      <td>Red Bull Racing RBPT</td>\n",
       "      <td>50</td>\n",
       "      <td>+10.800s</td>\n",
       "      <td>12</td>\n",
       "      <td>SAUDI ARABIA</td>\n",
       "    </tr>\n",
       "    <tr>\n",
       "      <th>41</th>\n",
       "      <td>2</td>\n",
       "      <td>Sergio Perez</td>\n",
       "      <td>Red Bull Racing RBPT</td>\n",
       "      <td>58</td>\n",
       "      <td>+20.524s</td>\n",
       "      <td>18</td>\n",
       "      <td>AUSTRALIA</td>\n",
       "    </tr>\n",
       "  </tbody>\n",
       "</table>\n",
       "</div>"
      ],
      "text/plain": [
       "   POS          Driver                   Car  Laps Time/Retired  PTS  \\\n",
       "17  18    Sergio Perez  Red Bull Racing RBPT    56          DNF    0   \n",
       "18  19  Max Verstappen  Red Bull Racing RBPT    54          DNF    0   \n",
       "20   1  Max Verstappen  Red Bull Racing RBPT    50      24:19.3   25   \n",
       "23   4    Sergio Perez  Red Bull Racing RBPT    50     +10.800s   12   \n",
       "41   2    Sergio Perez  Red Bull Racing RBPT    58     +20.524s   18   \n",
       "\n",
       "            Race  \n",
       "17       BAHRAIN  \n",
       "18       BAHRAIN  \n",
       "20  SAUDI ARABIA  \n",
       "23  SAUDI ARABIA  \n",
       "41     AUSTRALIA  "
      ]
     },
     "execution_count": 12,
     "metadata": {},
     "output_type": "execute_result"
    }
   ],
   "source": [
    "redBull = raceResults.loc[raceResults['Car'] == 'Red Bull Racing RBPT']\n",
    "redBull.head()"
   ]
  },
  {
   "cell_type": "code",
   "execution_count": 15,
   "metadata": {},
   "outputs": [
    {
     "data": {
      "text/plain": [
       "16.285714285714285"
      ]
     },
     "execution_count": 15,
     "metadata": {},
     "output_type": "execute_result"
    }
   ],
   "source": [
    "redBull['PTS'].mean()"
   ]
  },
  {
   "cell_type": "code",
   "execution_count": 16,
   "metadata": {},
   "outputs": [
    {
     "data": {
      "text/html": [
       "<div>\n",
       "<style scoped>\n",
       "    .dataframe tbody tr th:only-of-type {\n",
       "        vertical-align: middle;\n",
       "    }\n",
       "\n",
       "    .dataframe tbody tr th {\n",
       "        vertical-align: top;\n",
       "    }\n",
       "\n",
       "    .dataframe thead th {\n",
       "        text-align: right;\n",
       "    }\n",
       "</style>\n",
       "<table border=\"1\" class=\"dataframe\">\n",
       "  <thead>\n",
       "    <tr style=\"text-align: right;\">\n",
       "      <th></th>\n",
       "      <th>POS</th>\n",
       "      <th>Driver</th>\n",
       "      <th>Car</th>\n",
       "      <th>Laps</th>\n",
       "      <th>Time/Retired</th>\n",
       "      <th>PTS</th>\n",
       "      <th>Race</th>\n",
       "    </tr>\n",
       "  </thead>\n",
       "  <tbody>\n",
       "    <tr>\n",
       "      <th>0</th>\n",
       "      <td>1</td>\n",
       "      <td>Charles Leclerc</td>\n",
       "      <td>Ferrari</td>\n",
       "      <td>57</td>\n",
       "      <td>37:33.6</td>\n",
       "      <td>26</td>\n",
       "      <td>BAHRAIN</td>\n",
       "    </tr>\n",
       "    <tr>\n",
       "      <th>1</th>\n",
       "      <td>2</td>\n",
       "      <td>Carlos Sainz</td>\n",
       "      <td>Ferrari</td>\n",
       "      <td>57</td>\n",
       "      <td>+5.598s</td>\n",
       "      <td>18</td>\n",
       "      <td>BAHRAIN</td>\n",
       "    </tr>\n",
       "    <tr>\n",
       "      <th>21</th>\n",
       "      <td>2</td>\n",
       "      <td>Charles Leclerc</td>\n",
       "      <td>Ferrari</td>\n",
       "      <td>50</td>\n",
       "      <td>+0.549s</td>\n",
       "      <td>19</td>\n",
       "      <td>SAUDI ARABIA</td>\n",
       "    </tr>\n",
       "    <tr>\n",
       "      <th>22</th>\n",
       "      <td>3</td>\n",
       "      <td>Carlos Sainz</td>\n",
       "      <td>Ferrari</td>\n",
       "      <td>50</td>\n",
       "      <td>+8.097s</td>\n",
       "      <td>15</td>\n",
       "      <td>SAUDI ARABIA</td>\n",
       "    </tr>\n",
       "    <tr>\n",
       "      <th>40</th>\n",
       "      <td>1</td>\n",
       "      <td>Charles Leclerc</td>\n",
       "      <td>Ferrari</td>\n",
       "      <td>58</td>\n",
       "      <td>27:46.5</td>\n",
       "      <td>26</td>\n",
       "      <td>AUSTRALIA</td>\n",
       "    </tr>\n",
       "  </tbody>\n",
       "</table>\n",
       "</div>"
      ],
      "text/plain": [
       "   POS           Driver      Car  Laps Time/Retired  PTS          Race\n",
       "0    1  Charles Leclerc  Ferrari    57      37:33.6   26       BAHRAIN\n",
       "1    2     Carlos Sainz  Ferrari    57      +5.598s   18       BAHRAIN\n",
       "21   2  Charles Leclerc  Ferrari    50      +0.549s   19  SAUDI ARABIA\n",
       "22   3     Carlos Sainz  Ferrari    50      +8.097s   15  SAUDI ARABIA\n",
       "40   1  Charles Leclerc  Ferrari    58      27:46.5   26     AUSTRALIA"
      ]
     },
     "execution_count": 16,
     "metadata": {},
     "output_type": "execute_result"
    }
   ],
   "source": [
    "ferrari = raceResults.loc[raceResults['Car'] == 'Ferrari']\n",
    "ferrari.head()"
   ]
  },
  {
   "cell_type": "code",
   "execution_count": 17,
   "metadata": {},
   "outputs": [
    {
     "data": {
      "text/plain": [
       "11.642857142857142"
      ]
     },
     "execution_count": 17,
     "metadata": {},
     "output_type": "execute_result"
    }
   ],
   "source": [
    "ferrari['PTS'].mean()"
   ]
  },
  {
   "cell_type": "code",
   "execution_count": null,
   "metadata": {},
   "outputs": [],
   "source": []
  }
 ],
 "metadata": {
  "kernelspec": {
   "display_name": "Python 3.10.0 ('.venv': poetry)",
   "language": "python",
   "name": "python3"
  },
  "language_info": {
   "codemirror_mode": {
    "name": "ipython",
    "version": 3
   },
   "file_extension": ".py",
   "mimetype": "text/x-python",
   "name": "python",
   "nbconvert_exporter": "python",
   "pygments_lexer": "ipython3",
   "version": "3.10.0"
  },
  "orig_nbformat": 4,
  "vscode": {
   "interpreter": {
    "hash": "b128cacd8e5c75fa5980c16486a6407eea02871677fc1b470f9c2acf61e93cad"
   }
  }
 },
 "nbformat": 4,
 "nbformat_minor": 2
}
